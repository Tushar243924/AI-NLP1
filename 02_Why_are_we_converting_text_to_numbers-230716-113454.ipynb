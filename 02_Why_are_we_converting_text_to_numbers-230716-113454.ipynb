{
  "nbformat": 4,
  "nbformat_minor": 0,
  "metadata": {
    "colab": {
      "provenance": [],
      "toc_visible": true
    },
    "kernelspec": {
      "display_name": "Python 3",
      "language": "python",
      "name": "python3"
    },
    "language_info": {
      "codemirror_mode": {
        "name": "ipython",
        "version": 3
      },
      "file_extension": ".py",
      "mimetype": "text/x-python",
      "name": "python",
      "nbconvert_exporter": "python",
      "pygments_lexer": "ipython3",
      "version": "3.6.3"
    }
  },
  "cells": [
    {
      "cell_type": "markdown",
      "metadata": {
        "id": "NbiO44IXcLT3"
      },
      "source": [
        "<center><img src=\"https://gitlab.com/accredian/insaid-data/-/raw/main/Logo-Accredian/Case-Study-Cropped.png\" width= 30% /></center>"
      ]
    },
    {
      "cell_type": "markdown",
      "metadata": {
        "id": "5dzA4Yt7Y7RP"
      },
      "source": [
        "## What is Text?"
      ]
    },
    {
      "cell_type": "markdown",
      "metadata": {
        "id": "Bv3Qbd2RcfMQ"
      },
      "source": [
        "- Text is a sequence of :\n",
        " - **Characters**\n",
        " - **Words**\n",
        " - **Phrases and named entities**\n",
        " - **Sentences**\n",
        " - **Paragraphs**"
      ]
    },
    {
      "cell_type": "markdown",
      "metadata": {
        "id": "y06_T5FG_X1S"
      },
      "source": [
        "## Can text be input in deep learning?"
      ]
    },
    {
      "cell_type": "markdown",
      "metadata": {
        "id": "mn4sCMttBVBc"
      },
      "source": [
        "<center><img src = \"https://raw.githubusercontent.com/insaid2018/Term-1/master/Images/no3.JPG\" width=\"300\"height = \"200\"/></center>"
      ]
    },
    {
      "cell_type": "markdown",
      "metadata": {
        "id": "lyOkLKCU_7FJ"
      },
      "source": [
        " - In order for machine to be **able to deal** with text data , the **text data** needs to be coverted to **numbers**.\n",
        "\n",
        " <center><img src = \"https://raw.githubusercontent.com/insaid2018/Term-1/master/Images/23456.JPG\" width=\"200\"height = \"200\"/></center>\n",
        "\n",
        " - Then, it is fed into the **Machine Learning** and **Deep Learning Algorithms** for analysis."
      ]
    },
    {
      "cell_type": "markdown",
      "metadata": {
        "id": "-owAzujNR_6j"
      },
      "source": [
        "<center><img src = \" https://raw.githubusercontent.com/insaid2018/Term-1/master/Images/mrbean2.JPG\" width=\"700\"height = \"300\"/></center>"
      ]
    },
    {
      "cell_type": "markdown",
      "metadata": {
        "id": "NXD7SMoPUs8s"
      },
      "source": [
        "**For Example:**\n",
        "\n",
        "- Lets consider **two sentences** and apply **encoding**.\n",
        "\n",
        "<center><img src = \"https://raw.githubusercontent.com/insaid2018/Term-1/master/Images/Lovehate2.JPG\" width=\"480\"height = \"200\"/></center>"
      ]
    },
    {
      "cell_type": "markdown",
      "metadata": {
        "id": "WIYLnOGcWqNA"
      },
      "source": [
        "- **Lets apply one of the popular encoding:**\n",
        "\n",
        "- **One - hot encoding** -  Converting text to vectors.\n",
        "\n",
        "<center><img src = \"https://raw.githubusercontent.com/insaid2018/Term-1/master/Images/hatelove.JPG\" width=\"800\"height = \"200\"/></center>"
      ]
    },
    {
      "cell_type": "markdown",
      "metadata": {
        "id": "VlOaR-Kfpcpf"
      },
      "source": [
        "- We can expand this **approach** to any number of **words** by simply adding a **new dimension** for each **new word** in our vocabulary."
      ]
    },
    {
      "cell_type": "markdown",
      "metadata": {
        "id": "ekBqfX2tEMHC"
      },
      "source": [
        "<center><img src = \"https://raw.githubusercontent.com/insaid2018/Term-1/master/Images/problem.JPG\" width=\"300\"height = \"200\"/></center>"
      ]
    },
    {
      "cell_type": "markdown",
      "metadata": {
        "id": "TOU3qhRJBv08"
      },
      "source": [
        "<center><img src = \"https://raw.githubusercontent.com/insaid2018/Term-1/master/Images/bvhfd.JPG\" height = \"400\" width = \"600\"/></center>"
      ]
    },
    {
      "cell_type": "markdown",
      "metadata": {
        "id": "HGscyGv3Z6ts"
      },
      "source": [
        "<center><img src = \"https://raw.githubusercontent.com/insaid2018/Term-1/master/Images/1183199.png\" width=\"300\"height = \"200\"/></center>\n",
        "\n"
      ]
    },
    {
      "cell_type": "markdown",
      "metadata": {
        "id": "Ircof9jdEwt8"
      },
      "source": [
        "- So,  we use  **Word Embedding**\n",
        "\n",
        "- **Embedding**: a **dense vector** with **similarity**.\n",
        "\n",
        "-  It refers to **something** that's been **translated** into a vector.\n",
        "\n",
        "-  Once we've created an **embedding**, we can **locate this vector** in something called a **vector space**."
      ]
    },
    {
      "cell_type": "markdown",
      "metadata": {
        "id": "Yf7r9l9YvDs7"
      },
      "source": [
        "<center><img src = \"https://raw.githubusercontent.com/insaid2018/Term-1/master/Images/dense.JPG\"width=\"600\"height = \"300\"/></center>"
      ]
    },
    {
      "cell_type": "markdown",
      "metadata": {
        "id": "J41XUG23p_mz"
      },
      "source": [
        "## Why word vectors or word embedding?\n",
        "\n",
        "- Computer cannot do **computations** on strings.\n",
        "\n",
        "- Strings don’t hold much **explicit information** themselves.\n",
        "\n",
        "- Words Vectors are usually **dense vector representations**."
      ]
    },
    {
      "cell_type": "markdown",
      "metadata": {
        "id": "FhFVwCrXuAPs"
      },
      "source": [
        "<center><img src = \"https://raw.githubusercontent.com/insaid2018/Term-1/master/Images/explicit.JPG\" height = \"350\" width = \"800\"/></center>"
      ]
    },
    {
      "cell_type": "markdown",
      "metadata": {
        "id": "zBvF1vsGt3dA"
      },
      "source": [
        "## Visualizing Word Embeddings"
      ]
    },
    {
      "cell_type": "markdown",
      "metadata": {
        "id": "DLEK5mV5Th8Z"
      },
      "source": [
        "<center><img src = \"https://raw.githubusercontent.com/insaid2018/Term-1/master/Images/manwoman.JPG\" width=\"400\"height = \"300\"/></center>\n"
      ]
    },
    {
      "cell_type": "markdown",
      "metadata": {
        "id": "jBWEJj2NZCsE"
      },
      "source": [
        "**For example:**\n",
        "\n",
        "- Let’s take the words **woman, man, queen, and king**.\n",
        "\n",
        "- We can easily discern that there is some connection between these words.\n",
        "\n",
        "- **“King”** and **“Queen”** are both **royal terms**.\n",
        "\n",
        "- **“Man”** and **“Woman”** are **gender terms**.\n",
        "\n",
        "-  But there is also a relationship between these pairs of terms.\n",
        "\n",
        "-  A **“King”** is traditionally associated with the word **“Man”**.\n",
        "\n",
        "-  A **“Queen”** is often associated with the word **“Woman.\"**\n"
      ]
    },
    {
      "cell_type": "markdown",
      "metadata": {
        "id": "7AOiB3LNMn_5"
      },
      "source": [
        "<center><img src = \" https://raw.githubusercontent.com/insaid2018/Term-1/master/Images/king.JPG\" width=\"400\"height = \"300\"/></center>"
      ]
    },
    {
      "cell_type": "markdown",
      "metadata": {
        "id": "ToNZtlaHGj0C"
      },
      "source": [
        "- **We can get their vector representations.**"
      ]
    },
    {
      "cell_type": "markdown",
      "metadata": {
        "id": "YHVWsyUrbyok"
      },
      "source": [
        "-  **Vector** - It is just a set of real numbers.\n",
        "\n",
        "- **Vector spaces** help us identify **similar patterns** more easily.\n",
        "\n",
        "-  For Example:\n",
        "\n",
        "  - Red = [-1.4,-1.2]\n",
        "\n",
        "   - Blue = [3,3]\n",
        "\n",
        "   - Green = [3.2,2.9]\n",
        "   \n",
        "   - Yellow = [3.3,3.1]"
      ]
    },
    {
      "cell_type": "markdown",
      "metadata": {
        "id": "etfTVwSyXehV"
      },
      "source": [
        "<center><img src = \"https://raw.githubusercontent.com/insaid2018/Term-1/master/Images/tor%20spaces.png\"width=\"400\"height = \"300\"/></center>"
      ]
    },
    {
      "cell_type": "markdown",
      "metadata": {
        "id": "EOIIr219bTkn"
      },
      "source": [
        "<center><img src = \" https://raw.githubusercontent.com/insaid2018/Term-1/master/Images/vecs.png\" width=\"430\"height = \"300\"/></center>"
      ]
    },
    {
      "cell_type": "markdown",
      "metadata": {
        "id": "TK92G5uhbuz6"
      },
      "source": [
        "<center><img src = \"https://raw.githubusercontent.com/insaid2018/Term-1/master/Images/roger.JPG\" width=\"340\"height = \"200\"/></center>"
      ]
    },
    {
      "cell_type": "markdown",
      "metadata": {
        "id": "TAR5q0xyGApM"
      },
      "source": [
        "## Word2Vec is word embedding\n",
        "\n",
        "- **Similarity** comes from **neighbour words**."
      ]
    },
    {
      "cell_type": "markdown",
      "metadata": {
        "id": "_qvWzScqQ_Io"
      },
      "source": [
        "<center><img src =\"https://raw.githubusercontent.com/insaid2018/Term-1/master/Images/wejnv.JPG\"width=\"300\"height = \"250\"/></center>"
      ]
    },
    {
      "cell_type": "markdown",
      "metadata": {
        "id": "oeKO-rhKGKST"
      },
      "source": [
        "- Lets consider **two sentences**"
      ]
    },
    {
      "cell_type": "markdown",
      "metadata": {
        "id": "l4Hw7IdnHLdI"
      },
      "source": [
        "<center><img src = \"https://raw.githubusercontent.com/insaid2018/Term-1/master/Images/brave.JPG\"width=\"400\"height = \"100\"/></center>"
      ]
    },
    {
      "cell_type": "markdown",
      "metadata": {
        "id": "-zCzNpDmHleJ"
      },
      "source": [
        "- **Neighbours with window size = 1:**\n",
        "\n",
        "<center><img src = \"https://raw.githubusercontent.com/insaid2018/Term-1/master/Images/brave2.JPG\"width=\"400\"height = \"250\"/></center>"
      ]
    },
    {
      "cell_type": "markdown",
      "metadata": {
        "id": "jwB-o7uGKwRn"
      },
      "source": [
        "- **Neighbours with window size = 2:**\n",
        "\n",
        "<center><img src = \" https://raw.githubusercontent.com/insaid2018/Term-1/master/Images/brave3.JPG\"width=\"400\"height = \"310\"/></center>"
      ]
    },
    {
      "cell_type": "markdown",
      "metadata": {
        "id": "X_HvpCMcHHh0"
      },
      "source": [
        "<center><img src = \"https://raw.githubusercontent.com/insaid2018/Term-1/master/Images/vec23.JPG\"width=\"400\"height = \"320\"/></center>"
      ]
    },
    {
      "cell_type": "markdown",
      "metadata": {
        "id": "YrJw6mbV5oc-"
      },
      "source": [
        "## Vectors\n",
        "\n",
        " - A vector is an **object** that has both a **magnitude** and a **direction**.\n",
        "\n",
        " - The **direction** of the vector is from its **tail** to its **head**.\n",
        "\n",
        " <center><img src = \"https://raw.githubusercontent.com/insaid2018/Term-1/master/Images/vector.png\" width=\"250\"height = \"150\"/></center>"
      ]
    },
    {
      "cell_type": "markdown",
      "metadata": {
        "id": "RNZaZRZd52sG"
      },
      "source": [
        "- Vectors are **added** by connecting them **head to tail**.\n",
        "\n",
        " <center><img src =\" https://raw.githubusercontent.com/insaid2018/Term-1/master/Images/vector%20addition.JPG\"width=\"300\"height = \"220\"/></center>\n",
        "\n",
        "- Vectors are **subtracted** by **reversing heads and tails** for the subtracted vector, and then connecting them **head to tail.**\n",
        "\n",
        "<center><img src = \"https://raw.githubusercontent.com/insaid2018/Term-1/master/Images/vector%20subtraction.JPG\"width=\"300\"height = \"220\"/></center>"
      ]
    },
    {
      "cell_type": "markdown",
      "metadata": {
        "id": "STeZWk2456QO"
      },
      "source": [
        "- **Lets perform basic mathematical operations on the generated embeddings.**\n",
        "\n",
        "- **For Example** : King - Man + Woman = vector close to Queen."
      ]
    },
    {
      "cell_type": "markdown",
      "metadata": {
        "id": "yji3hBJ657eW"
      },
      "source": [
        "<center><img src= \"https://raw.githubusercontent.com/insaid2018/Term-1/master/Images/s_7F7F52CDA5C440D8FA8A15AEE4B7E5C0026FCD9A44A7D7FBC332306EAEDC151F_1545166550863_king-queen-man-woman.png\"width=\"400\"height = \"220\"/></center>"
      ]
    },
    {
      "cell_type": "markdown",
      "metadata": {
        "id": "hV1qv4Ln5-pn"
      },
      "source": [
        "- **Subtracting Man from Woman**"
      ]
    },
    {
      "cell_type": "markdown",
      "metadata": {
        "id": "iET9Kiet6B_u"
      },
      "source": [
        "<center><img src =\"https://raw.githubusercontent.com/insaid2018/Term-1/master/Images/k2.png\"width=\"300\"height = \"220\"/></center>"
      ]
    },
    {
      "cell_type": "markdown",
      "metadata": {
        "id": "mXhCMFWs6gim"
      },
      "source": [
        "- **Adding it to king**"
      ]
    },
    {
      "cell_type": "markdown",
      "metadata": {
        "id": "_qQ0A2mj6j4u"
      },
      "source": [
        "<center><img src= \"https://raw.githubusercontent.com/insaid2018/Term-1/master/Images/k3.png\"width=\"340\"height = \"220\"/></center>"
      ]
    },
    {
      "cell_type": "markdown",
      "metadata": {
        "id": "jq6pD4T06m7O"
      },
      "source": [
        "- **And the closest word embedding is Queen:**"
      ]
    },
    {
      "cell_type": "markdown",
      "metadata": {
        "id": "8a4PAo8P6p5W"
      },
      "source": [
        "<center><img src = \"https://raw.githubusercontent.com/insaid2018/Term-1/master/Images/k4.png\"width=\"330\"height = \"220\"/></center>"
      ]
    },
    {
      "cell_type": "markdown",
      "metadata": {
        "id": "eTurNKSP6svu"
      },
      "source": [
        "- **Lets understand this through a simple code:**"
      ]
    },
    {
      "cell_type": "code",
      "metadata": {
        "colab": {
          "base_uri": "https://localhost:8080/"
        },
        "id": "ZkDZ480U560G",
        "outputId": "85ef5fec-49eb-45ab-fdaf-81335693e19e"
      },
      "source": [
        "import warnings\n",
        "import nltk\n",
        "nltk.download('brown')\n",
        "warnings.filterwarnings(action = 'ignore')"
      ],
      "execution_count": null,
      "outputs": [
        {
          "output_type": "stream",
          "text": [
            "[nltk_data] Downloading package brown to /root/nltk_data...\n",
            "[nltk_data]   Unzipping corpora/brown.zip.\n"
          ],
          "name": "stdout"
        }
      ]
    },
    {
      "cell_type": "code",
      "metadata": {
        "id": "8s1Kg_mPHJg-",
        "colab": {
          "base_uri": "https://localhost:8080/"
        },
        "outputId": "94a5c777-c51e-44bb-eaa2-47b9622f43fe"
      },
      "source": [
        "!pip install gensim"
      ],
      "execution_count": null,
      "outputs": [
        {
          "output_type": "stream",
          "text": [
            "Requirement already satisfied: gensim in /usr/local/lib/python3.7/dist-packages (3.6.0)\n",
            "Requirement already satisfied: six>=1.5.0 in /usr/local/lib/python3.7/dist-packages (from gensim) (1.15.0)\n",
            "Requirement already satisfied: numpy>=1.11.3 in /usr/local/lib/python3.7/dist-packages (from gensim) (1.19.5)\n",
            "Requirement already satisfied: scipy>=0.18.1 in /usr/local/lib/python3.7/dist-packages (from gensim) (1.4.1)\n",
            "Requirement already satisfied: smart-open>=1.2.1 in /usr/local/lib/python3.7/dist-packages (from gensim) (5.0.0)\n"
          ],
          "name": "stdout"
        }
      ]
    },
    {
      "cell_type": "code",
      "metadata": {
        "id": "eY3wTv_E6xlz"
      },
      "source": [
        "from nltk.corpus import brown\n",
        "from gensim.models import Word2Vec\n",
        "from gensim.models.word2vec import Text8Corpus"
      ],
      "execution_count": null,
      "outputs": []
    },
    {
      "cell_type": "markdown",
      "metadata": {
        "id": "bIhpjGd361qm"
      },
      "source": [
        "- **We take only words that appear more than 150 times for doing a visualization later:**"
      ]
    },
    {
      "cell_type": "markdown",
      "metadata": {
        "id": "2GrBd4p2RXK-"
      },
      "source": [
        "- Downloading the **text8** data from web using **`!Wget`**."
      ]
    },
    {
      "cell_type": "code",
      "metadata": {
        "colab": {
          "base_uri": "https://localhost:8080/"
        },
        "id": "9EW3VFRqNxBm",
        "outputId": "2b014f0b-447e-41ea-a199-b3d443aeeeb6"
      },
      "source": [
        "!wget http://mattmahoney.net/dc/text8.zip"
      ],
      "execution_count": null,
      "outputs": [
        {
          "output_type": "stream",
          "text": [
            "--2021-05-23 17:14:52--  http://mattmahoney.net/dc/text8.zip\n",
            "Resolving mattmahoney.net (mattmahoney.net)... 67.195.197.24\n",
            "Connecting to mattmahoney.net (mattmahoney.net)|67.195.197.24|:80... connected.\n",
            "HTTP request sent, awaiting response... 200 OK\n",
            "Length: 31344016 (30M) [application/zip]\n",
            "Saving to: ‘text8.zip’\n",
            "\n",
            "text8.zip           100%[===================>]  29.89M   342KB/s    in 93s     \n",
            "\n",
            "2021-05-23 17:16:26 (329 KB/s) - ‘text8.zip’ saved [31344016/31344016]\n",
            "\n"
          ],
          "name": "stdout"
        }
      ]
    },
    {
      "cell_type": "markdown",
      "metadata": {
        "id": "1-cxv45pRoIk"
      },
      "source": [
        "- Using **`!unzip`** function to unzip the data."
      ]
    },
    {
      "cell_type": "code",
      "metadata": {
        "colab": {
          "base_uri": "https://localhost:8080/"
        },
        "id": "BOisjn2sP-xd",
        "outputId": "583bef0f-aa38-4e10-89a3-0bb60faa80d5"
      },
      "source": [
        "!unzip /content/text8.zip"
      ],
      "execution_count": null,
      "outputs": [
        {
          "output_type": "stream",
          "text": [
            "Archive:  /content/text8.zip\n",
            "  inflating: text8                   \n"
          ],
          "name": "stdout"
        }
      ]
    },
    {
      "cell_type": "code",
      "metadata": {
        "id": "3v8Q4JbC6zfh"
      },
      "source": [
        "w2v_model2 = Word2Vec(Text8Corpus('/content/text8'), size=100, window=5, min_count=150, workers=4)"
      ],
      "execution_count": null,
      "outputs": []
    },
    {
      "cell_type": "markdown",
      "metadata": {
        "id": "KJPvI1JF66cA"
      },
      "source": [
        "#### Getting most similar vectors"
      ]
    },
    {
      "cell_type": "code",
      "metadata": {
        "colab": {
          "base_uri": "https://localhost:8080/"
        },
        "id": "h2fkD9HF63_9",
        "outputId": "0c4b9be8-179a-4555-d48e-e5f560b2de55"
      },
      "source": [
        "print(w2v_model2.wv.most_similar('king'))"
      ],
      "execution_count": null,
      "outputs": [
        {
          "output_type": "stream",
          "text": [
            "[('prince', 0.7951688766479492), ('constantine', 0.7159833312034607), ('throne', 0.709578275680542), ('vii', 0.7070280313491821), ('sultan', 0.7032265663146973), ('iii', 0.7008650302886963), ('castile', 0.6966565847396851), ('queen', 0.6953591108322144), ('viii', 0.6951090097427368), ('duke', 0.6901012659072876)]\n"
          ],
          "name": "stdout"
        }
      ]
    },
    {
      "cell_type": "markdown",
      "metadata": {
        "id": "bc9IJlOE6_kP"
      },
      "source": [
        "####  \"King\" - \"Man\" + \"Woman\" == \"Queen\""
      ]
    },
    {
      "cell_type": "code",
      "metadata": {
        "id": "e-_h3i-G68ou",
        "colab": {
          "base_uri": "https://localhost:8080/"
        },
        "outputId": "4f11a897-8ac1-47b3-9137-f8bc62e46b8c"
      },
      "source": [
        "print(w2v_model2.most_similar(positive=['woman', 'king'], negative=['man'], topn=3))"
      ],
      "execution_count": null,
      "outputs": [
        {
          "output_type": "stream",
          "text": [
            "[('queen', 0.6905947923660278), ('elizabeth', 0.658841609954834), ('prince', 0.6399841904640198)]\n"
          ],
          "name": "stdout"
        }
      ]
    }
  ]
}