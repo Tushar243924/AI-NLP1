{
  "nbformat": 4,
  "nbformat_minor": 0,
  "metadata": {
    "colab": {
      "provenance": []
    },
    "hide_input": false,
    "kernelspec": {
      "display_name": "Python 3",
      "language": "python",
      "name": "python3"
    },
    "language_info": {
      "codemirror_mode": {
        "name": "ipython",
        "version": 3
      },
      "file_extension": ".py",
      "mimetype": "text/x-python",
      "name": "python",
      "nbconvert_exporter": "python",
      "pygments_lexer": "ipython3",
      "version": "3.7.5"
    },
    "toc": {
      "base_numbering": 1,
      "nav_menu": {},
      "number_sections": false,
      "sideBar": true,
      "skip_h1_title": true,
      "title_cell": "Table of Contents",
      "title_sidebar": "Contents",
      "toc_cell": false,
      "toc_position": {},
      "toc_section_display": true,
      "toc_window_display": false
    },
    "varInspector": {
      "cols": {
        "lenName": 16,
        "lenType": 16,
        "lenVar": 40
      },
      "kernels_config": {
        "python": {
          "delete_cmd_postfix": "",
          "delete_cmd_prefix": "del ",
          "library": "var_list.py",
          "varRefreshCmd": "print(var_dic_list())"
        },
        "r": {
          "delete_cmd_postfix": ") ",
          "delete_cmd_prefix": "rm(",
          "library": "var_list.r",
          "varRefreshCmd": "cat(var_dic_list()) "
        }
      },
      "types_to_exclude": [
        "module",
        "function",
        "builtin_function_or_method",
        "instance",
        "_Feature"
      ],
      "window_display": false
    }
  },
  "cells": [
    {
      "cell_type": "markdown",
      "metadata": {
        "id": "hpT02vsTow48"
      },
      "source": [
        "<center><img src=\"https://gitlab.com/accredian/insaid-data/-/raw/main/Logo-Accredian/Case-Study-Cropped.png\" width= 30% /></center>\n",
        "\n",
        "# <center><b> Introduction To NLTK\n"
      ]
    },
    {
      "cell_type": "markdown",
      "metadata": {
        "id": "oRSxxSSV7PvD"
      },
      "source": [
        "---\n",
        "# **Table of Contents**\n",
        "---\n",
        "\n",
        "**1.** [**Introduction**](#section1)<br>\n",
        "**2.** [**Text Preprocessing**](#section2)<br>\n",
        "  - **2.1** [**Convert Text to Lower Text**](#section201)\n",
        "  - **2.2** [**Word Tokenize**](#section202)\n",
        "  - **2.3** [**Sent Tokenize**](#section203)\n",
        "  - **2.4** [**Stop words removal**](#section204)\n",
        "  - **2.5** [**Lemma**](#section205)\n",
        "  - **2.6** [**Stem**](#section206)\n",
        "  - **2.7** [**Get word frequency**](#section207)\n",
        "  - **2.8** [**Pos Tags**](#section208)\n",
        "  - **2.9** [**NER(Named Entity Recognition)**](#section209)\n",
        "\n",
        "**3.** [**Bag of Words Approach**](#section3)<br>\n",
        "**4.** [**Applications**](#section4)<br>"
      ]
    },
    {
      "cell_type": "markdown",
      "metadata": {
        "id": "LLdbpjQY1glw"
      },
      "source": [
        "---\n",
        "<a name = Section1></a>\n",
        "# **1. Introduction**\n",
        "---"
      ]
    },
    {
      "cell_type": "markdown",
      "metadata": {
        "id": "L0Y-s377c2tS"
      },
      "source": [
        "- Field of Computer Science and Linguistics: **interaction** between **computers** and **human** languages.\n",
        "\n",
        "<br>  \n",
        "<center><img src = \"https://raw.githubusercontent.com/insaid2018/Term-1/master/Images/human-comp.jpg\"width=\"440\" height=\"300\"/></center>\n",
        "\n",
        "<br>  \n",
        "- The main objective is to **enrich** computer algorithms with the **capacity** of handling **natural** language."
      ]
    },
    {
      "cell_type": "markdown",
      "metadata": {
        "id": "UsOQbFRrwXLN"
      },
      "source": [
        "<center><img src = \" https://raw.githubusercontent.com/insaid2018/Term-1/master/Images/comphuman.JPG\"width=\"640\" height=\"250\"/></center>"
      ]
    },
    {
      "cell_type": "markdown",
      "metadata": {
        "id": "ejglSvBAjrFE"
      },
      "source": [
        "- Text often contain **slang, sarcasm, inconsistent syntax, grammatical errors, double entendres**, etc.\n",
        "\n",
        "- Those create a **problem** for the machine algorithms as all **text mining** techniques require correctly **structured** text sentences or documents.\n",
        "\n",
        "- So, if you still want to **implement** an algorithm, someone needs to correct all writing **errors** and **standardize** word forms to make them more **comparable**.\n",
        "\n",
        "- The best way to do that is with **natural language processing** tools."
      ]
    },
    {
      "cell_type": "markdown",
      "metadata": {
        "id": "h7SFAtyOkC-F"
      },
      "source": [
        "<center><img src = \"https://raw.githubusercontent.com/insaid2018/Term-1/master/Images/nlp222.JPG\" width=\"440\" height=\"300\"></center>"
      ]
    },
    {
      "cell_type": "markdown",
      "metadata": {
        "id": "iGxKw7Sr0eaB"
      },
      "source": [
        "#### What is the need for the usage of NLP libraries?"
      ]
    },
    {
      "cell_type": "markdown",
      "metadata": {
        "id": "hN-TgSDm0cEn"
      },
      "source": [
        "- These **Libraries** helps us to **extract meaning** from the **text**.\n",
        "\n",
        "- It includes the **wide** range of tasks such as **document classification, topic modelling, part-of-speech (POS) tagging, and sentiment analysis** etc."
      ]
    },
    {
      "cell_type": "markdown",
      "metadata": {
        "id": "AsKhraF8O5ik"
      },
      "source": [
        "<center><img src = \"https://raw.githubusercontent.com/insaid2018/Term-1/master/Images/nlplibraries.JPG\"/></center>"
      ]
    },
    {
      "cell_type": "markdown",
      "metadata": {
        "id": "QI8G1Lqz0w5O"
      },
      "source": [
        "#### Let’s have a look at the following libraries:-\n",
        "\n",
        "<center><img src = \"https://raw.githubusercontent.com/insaid2018/Term-1/master/Images/ltk1.JPG\" width=\"140\" height=\"80\"/></center>\n",
        "\n",
        "#### Natural Language Toolkit(NLTK)\n",
        "\n",
        "- It is foremost platform for **constructing python programs** when we deal with linguistic data.\n",
        "\n",
        "-  It is a suite of **libraries** and **programs** for symbolic and **statistical** natural language processing (NLP) for **English written** in the Python programming language.\n",
        "\n",
        "- It is **open source, community-driven project.**\n",
        "\n",
        "<center><img src = \"https://raw.githubusercontent.com/insaid2018/Term-1/master/Images/scikit.JPG\"width=\"160\" height=\"140\"/></center>\n",
        "\n",
        "#### Scikit-learn\n",
        "\n",
        "- It is not just used for **NLP** but it’s applied widely in **Machine learning**.\n",
        "\n",
        "<center><img src = \"https://raw.githubusercontent.com/insaid2018/Term-1/master/Images/textblob.JPG\" width=\"240\" height=\"200\"/></center>\n",
        "\n",
        "#### TextBlob\n",
        "\n",
        "- It provides with **NLP tools API** which can be **easily handled** by the users.\n",
        "\n",
        "<center><img src = \"https://raw.githubusercontent.com/insaid2018/Term-1/master/Images/spacy.JPG\"width=\"140\" height=\"80\"/></center>\n",
        "\n",
        "#### spaCy\n",
        "\n",
        "- Using spacy, we can implement concepts of NLP by using **Python and Cython**.\n",
        "\n",
        "- It has some **excellent capabilities** for **named entity recognition**.\n",
        "\n",
        "<center><img src =\"https://raw.githubusercontent.com/insaid2018/Term-1/master/Images/polyglot2.JPG\"width=\"240\" height=\"160\"/></center>\n",
        "\n",
        "#### Polyglot\n",
        "\n",
        "- It is the yet **another python package** for NLP.\n",
        "\n",
        "- It is **not very popular** but also can be used for a **wide range of the NLP tasks**.\n",
        "\n",
        "- It is usually used for **projects involving a language** spaCy doesn’t support.\n",
        "\n",
        "\n",
        "<center><img src =\"https://raw.githubusercontent.com/insaid2018/Term-1/master/Images/gensim.JPG\" width=\"200\" height=\"100\"/></center>\n",
        "\n",
        "#### Gensim\n",
        "\n",
        "- It is specifically used for **Topic Modelling** while we deal with text documents.\n",
        "\n",
        "<center><img src = \"https://raw.githubusercontent.com/insaid2018/Term-1/master/Images/stanford.JPG\"width=\"140\" height=\"150\"/></center>\n",
        "\n",
        "#### Stanford Core NLP\n",
        "\n",
        "- One of the most famous university i.e. **Stanford University** has contributed a lot towards the **development of NLP.**\n",
        "\n",
        "- There are numerous **NLP packages and services** which are built by Stanford NLP Group for the same purpose."
      ]
    },
    {
      "cell_type": "markdown",
      "metadata": {
        "id": "ZZpysumToh56"
      },
      "source": [
        "#### Lets get started with Natural Language Processing\n",
        "\n",
        "<center><img src = \"https://raw.githubusercontent.com/insaid2018/Term-1/master/Images/1_tzWP1K-eXiehDBBUxUN11w.gif\"width=\"640\" height=\"300\"/></center>"
      ]
    },
    {
      "cell_type": "markdown",
      "metadata": {
        "id": "KTVfJrTI4GFP"
      },
      "source": [
        "#### The data obtained from different sources is full of noise i.e. errors which will affect the precision of the result.\n",
        "\n",
        "- So, we need to perform **cleaning** and **standardization** of the text.\n",
        "\n",
        "- This will make the **text noise free** and **ready** for further analysis."
      ]
    },
    {
      "cell_type": "markdown",
      "metadata": {
        "id": "QeuJSWzWzv9M"
      },
      "source": [
        "<center><img src = \"https://raw.githubusercontent.com/insaid2018/Term-1/master/Images/strudata.JPG\" width=\"420\" height=\"200\"/></center>"
      ]
    },
    {
      "cell_type": "markdown",
      "metadata": {
        "id": "TGiW2VpJGfSq"
      },
      "source": [
        "#### Forms of NLP data:"
      ]
    },
    {
      "cell_type": "markdown",
      "metadata": {
        "id": "oUk7dd0DkDOI"
      },
      "source": [
        "<center><img src = \"https://raw.githubusercontent.com/insaid2018/Term-1/master/Images/ictss.JPG\"width=\"840\" height=\"480\"/></center>\n",
        "\n"
      ]
    },
    {
      "cell_type": "markdown",
      "metadata": {
        "id": "pQr8a0pb1nPy"
      },
      "source": [
        "---\n",
        "<a name = Section2></a>\n",
        "# **2. Text Preprocessing**\n",
        "---"
      ]
    },
    {
      "cell_type": "markdown",
      "metadata": {
        "id": "oV6QrrcCdvUr"
      },
      "source": [
        "**The basic tasks in NLP are**:\n",
        "\n",
        "**1. Lowercasing**\n",
        "\n",
        "**2. Word tokenize**\n",
        "\n",
        "**3. Sentence tokenize**\n",
        "\n",
        "**4. Stop words removal**\n",
        "\n",
        "**5. Lemmatization(Lemma)**\n",
        "\n",
        "**6. Stemming(Stem)**\n",
        "\n",
        "**7. Get word frequency**\n",
        "\n",
        "**8. Part of Speech tags(POS)**\n",
        "\n",
        "**9. Named Entity Recognition(NER)**"
      ]
    },
    {
      "cell_type": "markdown",
      "metadata": {
        "id": "rd9i1W7Qnp3Z"
      },
      "source": [
        "<center><img src =\"https://raw.githubusercontent.com/insaid2018/Term-1/master/Images/caps.JPG\"width=\"540\" height=\"300\"></center>"
      ]
    },
    {
      "cell_type": "markdown",
      "metadata": {
        "id": "3FSw4G9QeFTC"
      },
      "source": [
        "#### Pre-requirements:\n",
        "\n",
        "- Install **Python**\n",
        "\n",
        "- Install **NLTK** and its corpus"
      ]
    },
    {
      "cell_type": "markdown",
      "metadata": {
        "id": "0k8nyKzEu2dg"
      },
      "source": [
        "<center><img src = \"https://raw.githubusercontent.com/insaid2018/Term-1/master/Images/cp1.JPG\" width=\"340\" height=\"300\"/></center>\n",
        "\n",
        "#### Corpus\n",
        "\n",
        "- It is a **large collection of text.**\n",
        "\n",
        "- The **Plural** of corpus is **Corpora.**\n",
        "\n",
        "- It is written of spoken material on which **linguistic analysis** is used and is based upon.\n",
        "\n",
        "- Its data is **stored** in **library installed** .\n",
        "\n",
        "- **For Example** - Nltk library has following corpus :\n",
        "\n",
        "  - Brown corpus\n",
        "\n",
        "  - Gutenberg corpus\n",
        "\n",
        "  - Shakespeare corpus\n",
        "\n",
        "  - Stop words\n",
        "\n",
        "  - Treebank corpus etc\n"
      ]
    },
    {
      "cell_type": "markdown",
      "metadata": {
        "id": "9ZmnMg8PMzS7"
      },
      "source": [
        "<center><img src = \"https://raw.githubusercontent.com/insaid2018/Term-1/master/Images/corpus2.JPG\"width=\"460\" height=\"390\"/></center>\n",
        "<center><img src = \"https://raw.githubusercontent.com/insaid2018/Term-1/master/Images/2fw2xi.gif\"width=\"440\" height=\"280\"/></center>"
      ]
    },
    {
      "cell_type": "markdown",
      "metadata": {
        "id": "uYfbZNpPdjo_"
      },
      "source": [
        "#### Why Corpus?\n",
        "\n",
        "- It provides **descriptive insights** relevant to how people **use language**.\n",
        "\n",
        "- It acts as tool that enables to **analyse** both how people use **different language forms** at various levels of formality.\n",
        "\n",
        "- It helps analyse how language fulfils **multiple speech functions** across contexts."
      ]
    },
    {
      "cell_type": "markdown",
      "metadata": {
        "id": "ixgt0spfJbGD"
      },
      "source": [
        "#### Lets install Brown corpus"
      ]
    },
    {
      "cell_type": "code",
      "metadata": {
        "id": "p3ytsQS9Sou9",
        "colab": {
          "base_uri": "https://localhost:8080/"
        },
        "outputId": "dff10470-79ac-4517-a900-17464cd1e951"
      },
      "source": [
        "import nltk\n",
        "nltk.download('brown')\n",
        "import warnings\n",
        "warnings.filterwarnings(action = 'ignore')"
      ],
      "execution_count": 46,
      "outputs": [
        {
          "output_type": "stream",
          "name": "stderr",
          "text": [
            "[nltk_data] Downloading package brown to /root/nltk_data...\n",
            "[nltk_data]   Package brown is already up-to-date!\n"
          ]
        }
      ]
    },
    {
      "cell_type": "code",
      "source": [
        "dir(brown)"
      ],
      "metadata": {
        "id": "rhj1XK1Cv0iR",
        "outputId": "58d84488-c7c8-457c-ce52-b403e5e20b0e",
        "colab": {
          "base_uri": "https://localhost:8080/"
        }
      },
      "execution_count": 84,
      "outputs": [
        {
          "output_type": "execute_result",
          "data": {
            "text/plain": [
              "['__class__',\n",
              " '__delattr__',\n",
              " '__dict__',\n",
              " '__dir__',\n",
              " '__doc__',\n",
              " '__eq__',\n",
              " '__format__',\n",
              " '__ge__',\n",
              " '__getattribute__',\n",
              " '__gt__',\n",
              " '__hash__',\n",
              " '__init__',\n",
              " '__init_subclass__',\n",
              " '__le__',\n",
              " '__lt__',\n",
              " '__module__',\n",
              " '__ne__',\n",
              " '__new__',\n",
              " '__reduce__',\n",
              " '__reduce_ex__',\n",
              " '__repr__',\n",
              " '__setattr__',\n",
              " '__sizeof__',\n",
              " '__str__',\n",
              " '__subclasshook__',\n",
              " '__weakref__',\n",
              " '_add',\n",
              " '_c2f',\n",
              " '_citation',\n",
              " '_delimiter',\n",
              " '_encoding',\n",
              " '_f2c',\n",
              " '_file',\n",
              " '_fileids',\n",
              " '_get_root',\n",
              " '_init',\n",
              " '_license',\n",
              " '_map',\n",
              " '_para_block_reader',\n",
              " '_pattern',\n",
              " '_readme',\n",
              " '_resolve',\n",
              " '_root',\n",
              " '_sent_tokenizer',\n",
              " '_sep',\n",
              " '_tagset',\n",
              " '_unload',\n",
              " '_word_tokenizer',\n",
              " 'abspath',\n",
              " 'abspaths',\n",
              " 'categories',\n",
              " 'citation',\n",
              " 'encoding',\n",
              " 'ensure_loaded',\n",
              " 'fileids',\n",
              " 'license',\n",
              " 'open',\n",
              " 'paras',\n",
              " 'raw',\n",
              " 'readme',\n",
              " 'root',\n",
              " 'sents',\n",
              " 'tagged_paras',\n",
              " 'tagged_sents',\n",
              " 'tagged_words',\n",
              " 'words']"
            ]
          },
          "metadata": {},
          "execution_count": 84
        }
      ]
    },
    {
      "cell_type": "code",
      "source": [
        "brown.words()"
      ],
      "metadata": {
        "id": "yGTLdKZHwEvQ",
        "outputId": "cfb56fcc-dff6-4162-bc84-476a08be340a",
        "colab": {
          "base_uri": "https://localhost:8080/"
        }
      },
      "execution_count": 85,
      "outputs": [
        {
          "output_type": "execute_result",
          "data": {
            "text/plain": [
              "['The', 'Fulton', 'County', 'Grand', 'Jury', 'said', ...]"
            ]
          },
          "metadata": {},
          "execution_count": 85
        }
      ]
    },
    {
      "cell_type": "code",
      "metadata": {
        "id": "GhG2q9beJpFX",
        "colab": {
          "base_uri": "https://localhost:8080/"
        },
        "outputId": "d7713f55-8297-4229-fd92-bd07f0f1c124"
      },
      "source": [
        "from nltk.corpus import brown\n",
        "brown.categories()"
      ],
      "execution_count": 47,
      "outputs": [
        {
          "output_type": "execute_result",
          "data": {
            "text/plain": [
              "['adventure',\n",
              " 'belles_lettres',\n",
              " 'editorial',\n",
              " 'fiction',\n",
              " 'government',\n",
              " 'hobbies',\n",
              " 'humor',\n",
              " 'learned',\n",
              " 'lore',\n",
              " 'mystery',\n",
              " 'news',\n",
              " 'religion',\n",
              " 'reviews',\n",
              " 'romance',\n",
              " 'science_fiction']"
            ]
          },
          "metadata": {},
          "execution_count": 47
        }
      ]
    },
    {
      "cell_type": "markdown",
      "metadata": {
        "id": "eVWd2kRZoLZq"
      },
      "source": [
        "<center><img src = \"https://raw.githubusercontent.com/insaid2018/Term-1/master/Images/lady.jpg\" width=\"440\" height=\"300\" /></center>"
      ]
    },
    {
      "cell_type": "markdown",
      "metadata": {
        "id": "jU_Zq2WHoDv-"
      },
      "source": [
        "<center><img src = \"https://raw.githubusercontent.com/insaid2018/Term-1/master/Images/oni.JPG\" width=\"390\" height=\"280\"/></center>"
      ]
    },
    {
      "cell_type": "markdown",
      "metadata": {
        "id": "gp6Z2soIePfN"
      },
      "source": [
        "#### Import nltk in order to use its functions."
      ]
    },
    {
      "cell_type": "code",
      "source": [
        "type(brown.words())"
      ],
      "metadata": {
        "id": "VYkEfiirxuKm",
        "outputId": "79797d63-58ee-4418-c293-e7fe2e23cc43",
        "colab": {
          "base_uri": "https://localhost:8080/"
        }
      },
      "execution_count": 95,
      "outputs": [
        {
          "output_type": "execute_result",
          "data": {
            "text/plain": [
              "nltk.corpus.reader.util.ConcatenatedCorpusView"
            ]
          },
          "metadata": {},
          "execution_count": 95
        }
      ]
    },
    {
      "cell_type": "code",
      "metadata": {
        "id": "bbHEtJkFefxb"
      },
      "source": [
        "Br = nltk.corpus.brown.words()"
      ],
      "execution_count": 86,
      "outputs": []
    },
    {
      "cell_type": "code",
      "source": [
        "# My UPI handle is Pranjal123@ybl and my email address is pranjal@gmail.com"
      ],
      "metadata": {
        "id": "-5JewPxFx96V"
      },
      "execution_count": null,
      "outputs": []
    },
    {
      "cell_type": "markdown",
      "metadata": {
        "id": "6IAeLVjTTo9H"
      },
      "source": [
        "#### Lets add words to the corpus"
      ]
    },
    {
      "cell_type": "code",
      "metadata": {
        "id": "sfx9YkoPSk-1"
      },
      "source": [
        "l = list(Br)"
      ],
      "execution_count": 87,
      "outputs": []
    },
    {
      "cell_type": "code",
      "source": [
        "len(l)"
      ],
      "metadata": {
        "id": "PH5tVVS0wwSv",
        "outputId": "26374feb-8c2b-462c-e5c7-acc521e45037",
        "colab": {
          "base_uri": "https://localhost:8080/"
        }
      },
      "execution_count": 88,
      "outputs": [
        {
          "output_type": "execute_result",
          "data": {
            "text/plain": [
              "1161192"
            ]
          },
          "metadata": {},
          "execution_count": 88
        }
      ]
    },
    {
      "cell_type": "code",
      "source": [
        "l[10:29]"
      ],
      "metadata": {
        "id": "VEObEcWQwz2i",
        "outputId": "80f9d249-73b9-4589-a8f7-a61341a1dc47",
        "colab": {
          "base_uri": "https://localhost:8080/"
        }
      },
      "execution_count": 94,
      "outputs": [
        {
          "output_type": "execute_result",
          "data": {
            "text/plain": [
              "[\"Atlanta's\",\n",
              " 'recent',\n",
              " 'primary',\n",
              " 'election',\n",
              " 'produced',\n",
              " '``',\n",
              " 'no',\n",
              " 'evidence',\n",
              " \"''\",\n",
              " 'that',\n",
              " 'any',\n",
              " 'irregularities',\n",
              " 'took',\n",
              " 'place',\n",
              " '.',\n",
              " 'The',\n",
              " 'jury',\n",
              " 'further',\n",
              " 'said']"
            ]
          },
          "metadata": {},
          "execution_count": 94
        }
      ]
    },
    {
      "cell_type": "markdown",
      "metadata": {
        "id": "djwxl2fSTzih"
      },
      "source": [
        "#### Let the word be 'talking'"
      ]
    },
    {
      "cell_type": "code",
      "metadata": {
        "id": "m7D_aAP4SkqH"
      },
      "source": [
        "l.append('talking')"
      ],
      "execution_count": 50,
      "outputs": []
    },
    {
      "cell_type": "markdown",
      "metadata": {
        "id": "iWSzdBcBzJUT"
      },
      "source": [
        "#### NLTK: Some Example Modules\n",
        "\n",
        "- **nltk.token**: processing **individual** elements of text, such as words or sentences.\n",
        "\n",
        "-  **nltk.probability**: modeling **frequency distributions** and probabilistic systems.\n",
        "\n",
        "-  **nltk.tagger**: tagging tokens with **supplemental** information, such as parts of speech or wordnet sense tags.\n",
        "\n",
        "- **nltk.parser**: high-level interface for **parsing** texts.\n",
        "\n",
        "-  **nltk.chartparser**: a **chart-based** implementation of the parser interface.\n",
        "\n",
        "- **nltk.chunkparser**: a **regular-expression** based surface parser."
      ]
    },
    {
      "cell_type": "markdown",
      "metadata": {
        "id": "6XfQFdJBeoK1"
      },
      "source": [
        "<a id=section201></a>\n",
        "### **2.1 Coverting text to lower text as it is case sensitive**"
      ]
    },
    {
      "cell_type": "markdown",
      "metadata": {
        "id": "PF8uuumNVvuB"
      },
      "source": [
        "<center><img src= \"https://raw.githubusercontent.com/insaid2018/Term-1/master/Images/wrong.JPG\" width=\"380\" height=\"300\"/></center>"
      ]
    },
    {
      "cell_type": "code",
      "metadata": {
        "id": "kZEkdTpneqFI",
        "colab": {
          "base_uri": "https://localhost:8080/"
        },
        "outputId": "c5cbb735-0cbd-4b5f-cc01-3ff1c9f2b221"
      },
      "source": [
        "text =  \"Full form of NLTK is Natural Language Toolkit\"\n",
        "lower_text = text.lower()\n",
        "print (lower_text)"
      ],
      "execution_count": 96,
      "outputs": [
        {
          "output_type": "stream",
          "name": "stdout",
          "text": [
            "full form of nltk is natural language toolkit\n"
          ]
        }
      ]
    },
    {
      "cell_type": "markdown",
      "metadata": {
        "id": "SBW6so118Jfs"
      },
      "source": [
        "<a id=section202></a>\n",
        "### **2.2 Word tokenize**"
      ]
    },
    {
      "cell_type": "markdown",
      "metadata": {
        "id": "wymdpTnnWKFE"
      },
      "source": [
        "- The task of converting a text from a **single string** to a **list of tokens** is known as tokenization.\n",
        "\n",
        "- The tokens may be **words** or **number** or **punctuation mark**.\n",
        "\n",
        "   - Word tokenisation.\n",
        "\n",
        "   - Sentence tokenisation\n",
        "   \n",
        " <center><img src = \"https://raw.githubusercontent.com/insaid2018/Term-1/master/Images/tokenis.JPG\"width=\"340\" height=\"280\"/></center>\n",
        "\n",
        "\n",
        "#### Why tokenisation?\n",
        "\n",
        " - Computers cannot understand **large chunks** of data.\n",
        "\n",
        " - As a part of **preprocessing**, the text is broken into pieces called **Tokens**.\n",
        "\n",
        " - This is important because the **meaning of text** generally depends on the **relations of words** in that text.\n",
        "\n",
        " - These Tokens are **fed as an input** for other types of **analysis or tasks**."
      ]
    },
    {
      "cell_type": "markdown",
      "metadata": {
        "id": "25OFKHH-ewVA"
      },
      "source": [
        "- Tokenize sentences to get the **tokens** of the **text** i.e **breaking the sentences** into words."
      ]
    },
    {
      "cell_type": "code",
      "metadata": {
        "id": "n4NqLmp_e5zN"
      },
      "source": [
        "import nltk\n",
        "from nltk import sent_tokenize, word_tokenize"
      ],
      "execution_count": 52,
      "outputs": []
    },
    {
      "cell_type": "markdown",
      "metadata": {
        "id": "RXgG68U78X9l"
      },
      "source": [
        "<center><img src =\"https://raw.githubusercontent.com/insaid2018/Term-1/master/Images/891.JPG\"width=\"580\" height=\"180\"/></center>\n"
      ]
    },
    {
      "cell_type": "code",
      "metadata": {
        "id": "29tM5HLefGQf",
        "colab": {
          "base_uri": "https://localhost:8080/"
        },
        "outputId": "8ee2f063-0d22-4cdd-ffb0-84d836b44268"
      },
      "source": [
        "nltk.download('punkt')"
      ],
      "execution_count": 53,
      "outputs": [
        {
          "output_type": "stream",
          "name": "stderr",
          "text": [
            "[nltk_data] Downloading package punkt to /root/nltk_data...\n",
            "[nltk_data]   Package punkt is already up-to-date!\n"
          ]
        },
        {
          "output_type": "execute_result",
          "data": {
            "text/plain": [
              "True"
            ]
          },
          "metadata": {},
          "execution_count": 53
        }
      ]
    },
    {
      "cell_type": "code",
      "metadata": {
        "id": "Y4txZ2iGe98C",
        "colab": {
          "base_uri": "https://localhost:8080/"
        },
        "outputId": "23f21d73-61f3-4a37-e3fb-64dd84c1ae09"
      },
      "source": [
        "text = \"Full form of NLTK is Natural Language Toolkit\"\n",
        "word_tokens = nltk.word_tokenize(text)\n",
        "print (word_tokens)"
      ],
      "execution_count": 54,
      "outputs": [
        {
          "output_type": "stream",
          "name": "stdout",
          "text": [
            "['Full', 'form', 'of', 'NLTK', 'is', 'Natural', 'Language', 'Toolkit']\n"
          ]
        }
      ]
    },
    {
      "cell_type": "markdown",
      "metadata": {
        "id": "KCBlef_L8cFB"
      },
      "source": [
        "<a id=section203></a>\n",
        "### **2.3 Sent tokenize**"
      ]
    },
    {
      "cell_type": "markdown",
      "metadata": {
        "id": "urv8ij73fM1U"
      },
      "source": [
        "- Tokenize sentences if there are **more than 1 sentence** i.e **breaking** the **sentences** to **list of sentence**."
      ]
    },
    {
      "cell_type": "code",
      "metadata": {
        "id": "6BeErMnBfSJY",
        "colab": {
          "base_uri": "https://localhost:8080/"
        },
        "outputId": "bc8cbff7-49f9-40e7-f852-1a84b882aeac"
      },
      "source": [
        "text = \"Full form of NLTK is Natural Language Toolkit. It is a very powerful Package.\"\n",
        "sent_token = nltk.sent_tokenize(text)\n",
        "print (sent_token)"
      ],
      "execution_count": 55,
      "outputs": [
        {
          "output_type": "stream",
          "name": "stdout",
          "text": [
            "['Full form of NLTK is Natural Language Toolkit.', 'It is a very powerful Package.']\n"
          ]
        }
      ]
    },
    {
      "cell_type": "markdown",
      "metadata": {
        "id": "GE_kzxjM8g6R"
      },
      "source": [
        "<a id=section24></a>\n",
        "### **2.4 Stop words removal**"
      ]
    },
    {
      "cell_type": "markdown",
      "metadata": {
        "id": "zM73kGIZfZNT"
      },
      "source": [
        "- Remove **irrelevant words** using **nltk stop words** like is,the,a etc from the sentences as they **don’t carry any information**."
      ]
    },
    {
      "cell_type": "markdown",
      "metadata": {
        "id": "ybYUySG4kua8"
      },
      "source": [
        "<center> <img src = \"https://raw.githubusercontent.com/insaid2018/Term-1/master/Images/stopwords.JPG\"width=\"440\" height=\"240\"/> </center>"
      ]
    },
    {
      "cell_type": "code",
      "metadata": {
        "id": "3HdcCYnLfckx"
      },
      "source": [
        "import nltk\n",
        "from nltk.corpus import stopwords"
      ],
      "execution_count": 56,
      "outputs": []
    },
    {
      "cell_type": "code",
      "metadata": {
        "id": "i3xxBAWSfr5g",
        "colab": {
          "base_uri": "https://localhost:8080/"
        },
        "outputId": "4b47954a-c67c-4545-f70a-77d85752d2d2"
      },
      "source": [
        "nltk.download('stopwords')"
      ],
      "execution_count": 57,
      "outputs": [
        {
          "output_type": "stream",
          "name": "stderr",
          "text": [
            "[nltk_data] Downloading package stopwords to /root/nltk_data...\n",
            "[nltk_data]   Package stopwords is already up-to-date!\n"
          ]
        },
        {
          "output_type": "execute_result",
          "data": {
            "text/plain": [
              "True"
            ]
          },
          "metadata": {},
          "execution_count": 57
        }
      ]
    },
    {
      "cell_type": "markdown",
      "metadata": {
        "id": "pK-AvxPooerW"
      },
      "source": [
        "<center><img src = \"https://raw.githubusercontent.com/insaid2018/Term-1/master/Images/stop%20words.JPG\" width=\"420\" height=\"300\"></center>"
      ]
    },
    {
      "cell_type": "code",
      "metadata": {
        "id": "rAGjxjWfffVe",
        "colab": {
          "base_uri": "https://localhost:8080/"
        },
        "outputId": "b43d7246-7096-47e9-8ed5-3937ae76483c"
      },
      "source": [
        "stopword = stopwords.words(\"english\")\n",
        "text =  \"Full form of NLTK is Natural Language Toolkit\"\n",
        "word_tokens = nltk.word_tokenize(text)\n",
        "removing_stopwords = [word for word in word_tokens if word not in stopword]\n",
        "print (removing_stopwords)"
      ],
      "execution_count": 58,
      "outputs": [
        {
          "output_type": "stream",
          "name": "stdout",
          "text": [
            "['Full', 'form', 'NLTK', 'Natural', 'Language', 'Toolkit']\n"
          ]
        }
      ]
    },
    {
      "cell_type": "markdown",
      "metadata": {
        "id": "FVsIW4pm8nnB"
      },
      "source": [
        "<a id=section205></a>\n",
        "### **2.5 Lemmatization**"
      ]
    },
    {
      "cell_type": "markdown",
      "metadata": {
        "id": "gINKqoZOfzTR"
      },
      "source": [
        "- **Lemmatize the text** so as to get its **root form**\n",
        "\n",
        "- For Example: **functions,funtionality as function**"
      ]
    },
    {
      "cell_type": "markdown",
      "metadata": {
        "id": "Nz5wmF1IoFou"
      },
      "source": [
        "<center><img src = \"https://raw.githubusercontent.com/insaid2018/Term-1/master/Images/89.JPG\" height = \"200\"/></center>"
      ]
    },
    {
      "cell_type": "code",
      "metadata": {
        "id": "GXqH7plUf09_"
      },
      "source": [
        "import nltk\n",
        "from nltk.corpus import stopwords\n",
        "from nltk.stem import WordNetLemmatizer\n",
        "#is based on The Porter Stemming Algorithm"
      ],
      "execution_count": 59,
      "outputs": []
    },
    {
      "cell_type": "code",
      "metadata": {
        "id": "iGXf7ZovgRZ-",
        "colab": {
          "base_uri": "https://localhost:8080/"
        },
        "outputId": "3e0767b5-a6ae-45f6-c34e-e582a9152bb4"
      },
      "source": [
        "nltk.download('wordnet')"
      ],
      "execution_count": 60,
      "outputs": [
        {
          "output_type": "stream",
          "name": "stderr",
          "text": [
            "[nltk_data] Downloading package wordnet to /root/nltk_data...\n",
            "[nltk_data]   Package wordnet is already up-to-date!\n"
          ]
        },
        {
          "output_type": "execute_result",
          "data": {
            "text/plain": [
              "True"
            ]
          },
          "metadata": {},
          "execution_count": 60
        }
      ]
    },
    {
      "cell_type": "code",
      "metadata": {
        "id": "N1DEos4pf91g",
        "colab": {
          "base_uri": "https://localhost:8080/"
        },
        "outputId": "48a703c5-acde-4c8d-c569-b3513107dde8"
      },
      "source": [
        "stopword = stopwords.words(\"english\")\n",
        "wordnet_lemmatizer = WordNetLemmatizer()\n",
        "text = \"How are your studies going on? \"\n",
        "word_tokens = nltk.word_tokenize(text)\n",
        "lemmatized_word = [wordnet_lemmatizer.lemmatize(word) for word in word_tokens]\n",
        "print (lemmatized_word)"
      ],
      "execution_count": 61,
      "outputs": [
        {
          "output_type": "stream",
          "name": "stdout",
          "text": [
            "['How', 'are', 'your', 'study', 'going', 'on', '?']\n"
          ]
        }
      ]
    },
    {
      "cell_type": "markdown",
      "metadata": {
        "id": "_7r84SZ_8tBV"
      },
      "source": [
        "<a id=section206></a>\n",
        "### **2.6 Stemming**"
      ]
    },
    {
      "cell_type": "markdown",
      "metadata": {
        "id": "8w4F6DecgX0Q"
      },
      "source": [
        "- It is the process of **reducing** inflected (or sometimes derived) words to their word stem, **base** or **root** form."
      ]
    },
    {
      "cell_type": "markdown",
      "metadata": {
        "id": "nRGKDx50n61M"
      },
      "source": [
        "<center><img src =\"https://raw.githubusercontent.com/insaid2018/Term-1/master/Images/nant.JPG\"/></center>"
      ]
    },
    {
      "cell_type": "code",
      "metadata": {
        "id": "biajxK-BgZFg"
      },
      "source": [
        "import nltk\n",
        "from nltk.corpus import stopwords\n",
        "from nltk.stem import SnowballStemmer\n",
        "#is based on The Porter Stemming Algorithm"
      ],
      "execution_count": 62,
      "outputs": []
    },
    {
      "cell_type": "code",
      "metadata": {
        "id": "UXKiFzlDf_W_",
        "colab": {
          "base_uri": "https://localhost:8080/"
        },
        "outputId": "7c9306e2-efb5-401c-e1c7-ff8d3a825ca9"
      },
      "source": [
        "stopword = stopwords.words(\"english\")\n",
        "snowball_stemmer = SnowballStemmer(\"english\")\n",
        "text = \"How are your studies going on?\"\n",
        "word_tokens = nltk.word_tokenize(text)\n",
        "stemmed_word = [snowball_stemmer.stem(word) for word in word_tokens]\n",
        "print (stemmed_word)"
      ],
      "execution_count": 63,
      "outputs": [
        {
          "output_type": "stream",
          "name": "stdout",
          "text": [
            "['how', 'are', 'your', 'studi', 'go', 'on', '?']\n"
          ]
        }
      ]
    },
    {
      "cell_type": "markdown",
      "metadata": {
        "id": "vULmjhrivaIz"
      },
      "source": [
        "#### Lemmatization Vs Stemming?\n",
        "\n",
        "<center><img src = \"https://raw.githubusercontent.com/insaid2018/Term-1/master/Images/superman-vs-flash-justice-league.png\" width=\"540\" height=\"300\"/></center>\n",
        "\n",
        "- Lemmatization is typically **more accurate** as it uses more informed analysis to create **groups of words** with **similar meaning** based on the content around the world.\n",
        "\n",
        "- While Stemming is **typically faster** as it chops off the end of a word **using heuristics**, **without** any **understanding** of the context in which a word is used apparently.\n",
        "\n",
        "- By applying Stemming we **may or may not** get a **meaningful word.**\n",
        "\n",
        "- By using Lemmatization the words of a sentence will give a **meaningful meaning** of word.\n",
        "\n",
        "- Lemmatization is **accurate** but is **computationally expensive**\n",
        "\n",
        "- Stemming is **not that accurate** but it is **faster.**"
      ]
    },
    {
      "cell_type": "markdown",
      "metadata": {
        "id": "7LRbZoWA9E6m"
      },
      "source": [
        "<a id=section207></a>\n",
        "### **2.7 Get word frequency**"
      ]
    },
    {
      "cell_type": "markdown",
      "metadata": {
        "id": "3r7A7w6Ygu0X"
      },
      "source": [
        "- Through this we convert the **text into vector models** which is based on the occurrence of words in document.\n",
        "\n",
        "- Counting the **word occurrence** using **FreqDist library**."
      ]
    },
    {
      "cell_type": "code",
      "metadata": {
        "id": "etuWF5lUgxlA",
        "colab": {
          "base_uri": "https://localhost:8080/"
        },
        "outputId": "d2191736-e5b9-4400-dca1-ad780db075d3"
      },
      "source": [
        "import nltk\n",
        "from nltk import FreqDist\n",
        "text = \"Full form of NLTK is Natural Language Toolkit\"\n",
        "word = nltk.word_tokenize(text.lower())\n",
        "freq = FreqDist(word)\n",
        "print (freq.most_common(5))"
      ],
      "execution_count": 64,
      "outputs": [
        {
          "output_type": "stream",
          "name": "stdout",
          "text": [
            "[('full', 1), ('form', 1), ('of', 1), ('nltk', 1), ('is', 1)]\n"
          ]
        }
      ]
    },
    {
      "cell_type": "markdown",
      "metadata": {
        "id": "ZBeGtmnBt8zD"
      },
      "source": [
        "<center><img src = \"https://raw.githubusercontent.com/insaid2018/Term-1/master/Images/frequencyhighwords.jpg\" width=\"340\" height=\"200\"></center>\n"
      ]
    },
    {
      "cell_type": "markdown",
      "metadata": {
        "id": "nxATTgz69IwZ"
      },
      "source": [
        "<a id=section208></a>\n",
        "### **2.8  POS(Part of Speech)tags**"
      ]
    },
    {
      "cell_type": "markdown",
      "metadata": {
        "id": "xMLbnrN5g8Rf"
      },
      "source": [
        "- It helps us to know the tags of **each word** like whether a **word is noun, adjective** etc."
      ]
    },
    {
      "cell_type": "markdown",
      "metadata": {
        "id": "I-iUddF_0grR"
      },
      "source": [
        "<center><img src = \"https://raw.githubusercontent.com/insaid2018/Term-1/master/Images/ner.JPG\"width=\"440\" height=\"200\"/></center>"
      ]
    },
    {
      "cell_type": "code",
      "metadata": {
        "id": "1cbvMXc9htyF",
        "colab": {
          "base_uri": "https://localhost:8080/"
        },
        "outputId": "36293453-be8b-4492-e40a-eed388707dc1"
      },
      "source": [
        "nltk.download('averaged_perceptron_tagger')"
      ],
      "execution_count": 65,
      "outputs": [
        {
          "output_type": "stream",
          "name": "stderr",
          "text": [
            "[nltk_data] Downloading package averaged_perceptron_tagger to\n",
            "[nltk_data]     /root/nltk_data...\n",
            "[nltk_data]   Package averaged_perceptron_tagger is already up-to-\n",
            "[nltk_data]       date!\n"
          ]
        },
        {
          "output_type": "execute_result",
          "data": {
            "text/plain": [
              "True"
            ]
          },
          "metadata": {},
          "execution_count": 65
        }
      ]
    },
    {
      "cell_type": "code",
      "metadata": {
        "id": "4MRb5-FvhdVC",
        "scrolled": true,
        "colab": {
          "base_uri": "https://localhost:8080/"
        },
        "outputId": "62c343fd-6038-415a-ac25-3bcdbc092e84"
      },
      "source": [
        "import nltk\n",
        "text = \"the dogs are barking outside.\"\n",
        "word = nltk.word_tokenize(text)\n",
        "pos_tag = nltk.pos_tag(word)\n",
        "print (pos_tag)"
      ],
      "execution_count": 66,
      "outputs": [
        {
          "output_type": "stream",
          "name": "stdout",
          "text": [
            "[('the', 'DT'), ('dogs', 'NNS'), ('are', 'VBP'), ('barking', 'VBG'), ('outside', 'IN'), ('.', '.')]\n"
          ]
        }
      ]
    },
    {
      "cell_type": "markdown",
      "metadata": {
        "id": "GEQ1LZoAbeN8"
      },
      "source": [
        "<center><img src = \"https://raw.githubusercontent.com/insaid2018/Term-1/master/Images/partofspeechtags.JPG\" width=\"640\" height=\"380\"/></center>"
      ]
    },
    {
      "cell_type": "markdown",
      "metadata": {
        "id": "l9f3BlrD9QXT"
      },
      "source": [
        "<a id=section209></a>\n",
        "### 2.9  NER(Named Entity Recognition)"
      ]
    },
    {
      "cell_type": "markdown",
      "metadata": {
        "id": "zt-vX6ulhJjQ"
      },
      "source": [
        "- It is the process of getting the **entity names**.\n",
        "\n",
        "<center><img src = \"https://raw.githubusercontent.com/insaid2018/Term-1/master/Images/entity2.JPG\" width=\"590\" height=\"480\"/></center>\n",
        "\n",
        "- It is the subtask of **information extraction** that classify named entities into predefined categories such as **name of person, organization, location** etc."
      ]
    },
    {
      "cell_type": "code",
      "metadata": {
        "id": "EKfc9ykhh2Il",
        "colab": {
          "base_uri": "https://localhost:8080/"
        },
        "outputId": "64022674-5211-48ba-909d-948f7a2436af"
      },
      "source": [
        "import nltk\n",
        "nltk.download('maxent_ne_chunker')\n",
        "nltk.download('words')"
      ],
      "execution_count": 67,
      "outputs": [
        {
          "output_type": "stream",
          "name": "stderr",
          "text": [
            "[nltk_data] Downloading package maxent_ne_chunker to\n",
            "[nltk_data]     /root/nltk_data...\n",
            "[nltk_data]   Package maxent_ne_chunker is already up-to-date!\n",
            "[nltk_data] Downloading package words to /root/nltk_data...\n",
            "[nltk_data]   Package words is already up-to-date!\n"
          ]
        },
        {
          "output_type": "execute_result",
          "data": {
            "text/plain": [
              "True"
            ]
          },
          "metadata": {},
          "execution_count": 67
        }
      ]
    },
    {
      "cell_type": "markdown",
      "metadata": {
        "id": "SQXndvSlujGo"
      },
      "source": [
        "<center><img src =\"https://raw.githubusercontent.com/insaid2018/Term-1/master/Images/named.JPG\" width=\"420\" height=\"280\"/></center>"
      ]
    },
    {
      "cell_type": "code",
      "metadata": {
        "id": "F-UV0Z_gijE4",
        "colab": {
          "base_uri": "https://localhost:8080/"
        },
        "outputId": "87076f6c-9be5-4328-95e6-92c573fe20b3"
      },
      "source": [
        "text = \"Narendar Modi is the Prime Minister of India. Ananta is working at Insaid on Datascience pipelines\"\n",
        "word = nltk.word_tokenize(text)\n",
        "pos_tag = nltk.pos_tag(word)\n",
        "chunk = nltk.ne_chunk(pos_tag)\n",
        "NE = [ \" \".join(w for w, t in ele) for ele in chunk if isinstance(ele, nltk.Tree)]\n",
        "print (NE)"
      ],
      "execution_count": 68,
      "outputs": [
        {
          "output_type": "stream",
          "name": "stdout",
          "text": [
            "['Narendar', 'Modi', 'India', 'Ananta', 'Insaid', 'Datascience']\n"
          ]
        }
      ]
    },
    {
      "cell_type": "markdown",
      "metadata": {
        "id": "vLHVgG2H1tc2"
      },
      "source": [
        "---\n",
        "<a name = Section3></a>\n",
        "# **3. Bag of Words Approach**\n",
        "---"
      ]
    },
    {
      "cell_type": "markdown",
      "metadata": {
        "_uuid": "38f6a4ac426e4aae919a88080b3e06c691f95b2b",
        "id": "etAGZxFSTIXJ"
      },
      "source": [
        "- Most ML algorithms rely on **numerical** data to be fed into them as **input**.\n",
        "\n",
        "- We need a way to **represent** **text** data for machine learning algorithm and the __bag-of-words__ model helps us to **achieve** that task.\n",
        "\n",
        "- It is a way of **extracting features** from the **text** for use in machine learning algorithms.\n",
        "\n",
        "- In this approach, we use the **tokenized** words for each **observation** and find out the **frequency** of each token.\n",
        "\n",
        "- Using a **process** which we will go through now, we can **convert** a collection of documents to a **matrix**, with each document being a row and each word (token) being the **column**, and the corresponding (row, column) **values** being the frequency of **occurrence** of each word or **token** in that document.\n",
        "\n",
        "- Understanding the approach using an example:\n",
        "\n",
        "  - Lets say we have **4 documents** as follows:\n",
        "\n",
        "  - **['Hello, how are you!', 'Win money, win from home.', 'Call me now', 'Hello, Call you tomorrow?']**\n",
        "\n",
        "  - Our objective here is to **convert** this set of **text** to a **frequency** distribution **matrix**, as follows:\n",
        "\n",
        "<br>\n",
        "<img src=\"https://image.ibb.co/casG7U/countvectorizer.png\" alt=\"table\">"
      ]
    },
    {
      "cell_type": "markdown",
      "metadata": {
        "_uuid": "e7d98fe16bb796f82419fa591605f457b0d52836",
        "id": "vIon1cP0TIXJ"
      },
      "source": [
        "- Here as we can see, the **documents** are numbered in the **rows**, and each word is a **column** name, with the **corresponding** value being the **frequency** of that word in the **document**.\n",
        "\n",
        "- Lets break this **down** and see how we can do this **conversion** using a small set of documents.\n",
        "\n",
        "- To **handle** this, we will be using sklearn's **CountVectorizer** method which does the following:\n",
        "\n",
        "  1.  It **tokenizes** the string(separates the string into individual words) and gives an **integer** ID to each **token**.\n",
        "\n",
        "  2. It counts the **occurrence** of each of **those tokens**."
      ]
    },
    {
      "cell_type": "markdown",
      "metadata": {
        "_uuid": "1b1160ede91a8705d6f2aa30db6a198493f29661",
        "id": "RaFQ_wKLTIXK"
      },
      "source": [
        "#### Implementation of Bag of Words Approach"
      ]
    },
    {
      "cell_type": "markdown",
      "metadata": {
        "_uuid": "c801dcc3d64d88c1336de3b9aad1a3a802f711f1",
        "id": "x-DieQfgTIXK"
      },
      "source": [
        "**Step 1: Convert all strings to their lower case form.**"
      ]
    },
    {
      "cell_type": "code",
      "metadata": {
        "id": "SJlpAAzuY6Y_"
      },
      "source": [
        "documents = ['Hello, how are you!',\n",
        "             'Win money, win from home.',\n",
        "             'Call me now.',\n",
        "             'Hello, Call hello you tomorrow?']"
      ],
      "execution_count": 69,
      "outputs": []
    },
    {
      "cell_type": "code",
      "metadata": {
        "_uuid": "74535171bb8c56beef46d910fc322c8c6f8879ef",
        "id": "ZM3sO-11TIXL",
        "outputId": "f663c949-39c8-41ba-834d-4f6a04f70a60",
        "colab": {
          "base_uri": "https://localhost:8080/"
        }
      },
      "source": [
        "lower_case_documents = []\n",
        "lower_case_documents = [d.lower() for d in documents]\n",
        "print(lower_case_documents)"
      ],
      "execution_count": 70,
      "outputs": [
        {
          "output_type": "stream",
          "name": "stdout",
          "text": [
            "['hello, how are you!', 'win money, win from home.', 'call me now.', 'hello, call hello you tomorrow?']\n"
          ]
        }
      ]
    },
    {
      "cell_type": "markdown",
      "metadata": {
        "_uuid": "0c7114eeac1932122a01943d9fcdd52f13e86e80",
        "id": "97LZKHRPTIXO"
      },
      "source": [
        "**Step 2: Removing all punctuations**"
      ]
    },
    {
      "cell_type": "code",
      "metadata": {
        "_uuid": "0385f268056be9d84613fbc3a492d8b4695480bf",
        "id": "0CJLEq-aTIXO",
        "outputId": "95ba08fb-7615-4585-9e9e-5ad757dd4224",
        "colab": {
          "base_uri": "https://localhost:8080/"
        }
      },
      "source": [
        "sans_punctuation_documents = []\n",
        "import string\n",
        "\n",
        "for i in lower_case_documents:\n",
        "    sans_punctuation_documents.append(i.translate(str.maketrans(\"\",\"\", string.punctuation)))\n",
        "\n",
        "sans_punctuation_documents"
      ],
      "execution_count": 71,
      "outputs": [
        {
          "output_type": "execute_result",
          "data": {
            "text/plain": [
              "['hello how are you',\n",
              " 'win money win from home',\n",
              " 'call me now',\n",
              " 'hello call hello you tomorrow']"
            ]
          },
          "metadata": {},
          "execution_count": 71
        }
      ]
    },
    {
      "cell_type": "markdown",
      "metadata": {
        "_uuid": "a1a709cf9e09aa2ea1e67009ad19aaba8475fa6f",
        "id": "gFsuF3VvTIXV"
      },
      "source": [
        "\n",
        "**Step 3: Tokenization**"
      ]
    },
    {
      "cell_type": "code",
      "metadata": {
        "_uuid": "ef412ffa525e15273eaace2aae4e374a8933091c",
        "id": "BtOoSKYQTIXW",
        "outputId": "4e8b9b85-4788-42ac-c10a-e3a0e4ed7b8a",
        "colab": {
          "base_uri": "https://localhost:8080/"
        }
      },
      "source": [
        "preprocessed_documents = [[w for w in d.split()] for d in sans_punctuation_documents]\n",
        "preprocessed_documents"
      ],
      "execution_count": 72,
      "outputs": [
        {
          "output_type": "execute_result",
          "data": {
            "text/plain": [
              "[['hello', 'how', 'are', 'you'],\n",
              " ['win', 'money', 'win', 'from', 'home'],\n",
              " ['call', 'me', 'now'],\n",
              " ['hello', 'call', 'hello', 'you', 'tomorrow']]"
            ]
          },
          "metadata": {},
          "execution_count": 72
        }
      ]
    },
    {
      "cell_type": "markdown",
      "metadata": {
        "_uuid": "95630beff35cb61b5fd1744b91ca37e7f6dd1d00",
        "id": "3fyl5RsITIXZ"
      },
      "source": [
        "**Step 4: Count frequencies**"
      ]
    },
    {
      "cell_type": "code",
      "metadata": {
        "_uuid": "bdcd4677b6634fbe7f75c47262903efdb38100d1",
        "id": "TvB-sIPkTIXa",
        "outputId": "9dec701d-fb43-48f9-ed18-0ceb7b77f0ad",
        "colab": {
          "base_uri": "https://localhost:8080/"
        }
      },
      "source": [
        "frequency_list = []\n",
        "import pprint\n",
        "from collections import Counter\n",
        "\n",
        "frequency_list = [Counter(d) for d in preprocessed_documents]\n",
        "pprint.pprint(frequency_list)"
      ],
      "execution_count": 73,
      "outputs": [
        {
          "output_type": "stream",
          "name": "stdout",
          "text": [
            "[Counter({'hello': 1, 'how': 1, 'are': 1, 'you': 1}),\n",
            " Counter({'win': 2, 'money': 1, 'from': 1, 'home': 1}),\n",
            " Counter({'call': 1, 'me': 1, 'now': 1}),\n",
            " Counter({'hello': 2, 'call': 1, 'you': 1, 'tomorrow': 1})]\n"
          ]
        }
      ]
    },
    {
      "cell_type": "markdown",
      "metadata": {
        "_uuid": "cc97056c261ef100eb715301ae09a068530791d9",
        "id": "p9rLzdVDTIXe"
      },
      "source": [
        "#### Implementing Bag of Words in scikit-learn"
      ]
    },
    {
      "cell_type": "markdown",
      "metadata": {
        "_uuid": "ea63b5f315ff995b52de58a8805bbe10af9c17d6",
        "id": "zBM6C18LTIXe"
      },
      "source": [
        "**Data preprocessing with CountVectorizer()**\n",
        "\n",
        "- In above step, we implemented a version of the **`CountVectorizer()`** method from scratch that entailed **cleaning** our data first.\n",
        "\n",
        "- This cleaning **involved** converting all of our data to **lower case** and removing all **punctuation marks**.\n",
        "\n",
        "- **`CountVectorizer()`** has certain **parameters** which take care of these steps for us. They are:\n",
        "\n",
        " - **lowercase** = True  \n",
        "        \n",
        "   - The **lowercase** parameter has a **default** value of **True** which **converts** all of our text to its **lower case** form.\n",
        "        \n",
        " - **token_pattern** = (?u)\\\\b\\\\w\\\\w+\\\\b\n",
        "        \n",
        "    - The token_pattern parameter has a **default** **regular expression** value of (?u)\\\\b\\\\w\\\\w+\\\\b which **ignores** all **punctuation marks** and treats them as **delimiters**, while accepting **alphanumeric** strings of length greater than or equal to **2**, as individual **tokens** or words.\n",
        "        \n",
        " - **stop_words**\n",
        "    \n",
        "    - The stop_words parameter, if set to **english** will remove all **words** from our document set that **match** a list of English **stop words **which is defined in **scikit-learn**.\n",
        "\n",
        "   - Considering the **size** of our dataset and the fact that we are **dealing** with **SMS messages** and not larger **text sources** like e-mail, we will not be setting this **parameter** value."
      ]
    },
    {
      "cell_type": "code",
      "metadata": {
        "_uuid": "7ca6a8661c2d14ce311a263c8f5b599f099bcd92",
        "id": "gpWRUEtVTIXf"
      },
      "source": [
        "from sklearn.feature_extraction.text import CountVectorizer\n",
        "count_vector = CountVectorizer()"
      ],
      "execution_count": 74,
      "outputs": []
    },
    {
      "cell_type": "code",
      "metadata": {
        "_uuid": "89698bc13286e251f007438e5143a185874dec8a",
        "id": "Pxljhh5vTIXi",
        "outputId": "263d6a27-48d5-4a6d-935c-f073f81b3ea2",
        "colab": {
          "base_uri": "https://localhost:8080/",
          "height": 75
        }
      },
      "source": [
        "count_vector.fit(documents)"
      ],
      "execution_count": 75,
      "outputs": [
        {
          "output_type": "execute_result",
          "data": {
            "text/plain": [
              "CountVectorizer()"
            ],
            "text/html": [
              "<style>#sk-container-id-2 {color: black;background-color: white;}#sk-container-id-2 pre{padding: 0;}#sk-container-id-2 div.sk-toggleable {background-color: white;}#sk-container-id-2 label.sk-toggleable__label {cursor: pointer;display: block;width: 100%;margin-bottom: 0;padding: 0.3em;box-sizing: border-box;text-align: center;}#sk-container-id-2 label.sk-toggleable__label-arrow:before {content: \"▸\";float: left;margin-right: 0.25em;color: #696969;}#sk-container-id-2 label.sk-toggleable__label-arrow:hover:before {color: black;}#sk-container-id-2 div.sk-estimator:hover label.sk-toggleable__label-arrow:before {color: black;}#sk-container-id-2 div.sk-toggleable__content {max-height: 0;max-width: 0;overflow: hidden;text-align: left;background-color: #f0f8ff;}#sk-container-id-2 div.sk-toggleable__content pre {margin: 0.2em;color: black;border-radius: 0.25em;background-color: #f0f8ff;}#sk-container-id-2 input.sk-toggleable__control:checked~div.sk-toggleable__content {max-height: 200px;max-width: 100%;overflow: auto;}#sk-container-id-2 input.sk-toggleable__control:checked~label.sk-toggleable__label-arrow:before {content: \"▾\";}#sk-container-id-2 div.sk-estimator input.sk-toggleable__control:checked~label.sk-toggleable__label {background-color: #d4ebff;}#sk-container-id-2 div.sk-label input.sk-toggleable__control:checked~label.sk-toggleable__label {background-color: #d4ebff;}#sk-container-id-2 input.sk-hidden--visually {border: 0;clip: rect(1px 1px 1px 1px);clip: rect(1px, 1px, 1px, 1px);height: 1px;margin: -1px;overflow: hidden;padding: 0;position: absolute;width: 1px;}#sk-container-id-2 div.sk-estimator {font-family: monospace;background-color: #f0f8ff;border: 1px dotted black;border-radius: 0.25em;box-sizing: border-box;margin-bottom: 0.5em;}#sk-container-id-2 div.sk-estimator:hover {background-color: #d4ebff;}#sk-container-id-2 div.sk-parallel-item::after {content: \"\";width: 100%;border-bottom: 1px solid gray;flex-grow: 1;}#sk-container-id-2 div.sk-label:hover label.sk-toggleable__label {background-color: #d4ebff;}#sk-container-id-2 div.sk-serial::before {content: \"\";position: absolute;border-left: 1px solid gray;box-sizing: border-box;top: 0;bottom: 0;left: 50%;z-index: 0;}#sk-container-id-2 div.sk-serial {display: flex;flex-direction: column;align-items: center;background-color: white;padding-right: 0.2em;padding-left: 0.2em;position: relative;}#sk-container-id-2 div.sk-item {position: relative;z-index: 1;}#sk-container-id-2 div.sk-parallel {display: flex;align-items: stretch;justify-content: center;background-color: white;position: relative;}#sk-container-id-2 div.sk-item::before, #sk-container-id-2 div.sk-parallel-item::before {content: \"\";position: absolute;border-left: 1px solid gray;box-sizing: border-box;top: 0;bottom: 0;left: 50%;z-index: -1;}#sk-container-id-2 div.sk-parallel-item {display: flex;flex-direction: column;z-index: 1;position: relative;background-color: white;}#sk-container-id-2 div.sk-parallel-item:first-child::after {align-self: flex-end;width: 50%;}#sk-container-id-2 div.sk-parallel-item:last-child::after {align-self: flex-start;width: 50%;}#sk-container-id-2 div.sk-parallel-item:only-child::after {width: 0;}#sk-container-id-2 div.sk-dashed-wrapped {border: 1px dashed gray;margin: 0 0.4em 0.5em 0.4em;box-sizing: border-box;padding-bottom: 0.4em;background-color: white;}#sk-container-id-2 div.sk-label label {font-family: monospace;font-weight: bold;display: inline-block;line-height: 1.2em;}#sk-container-id-2 div.sk-label-container {text-align: center;}#sk-container-id-2 div.sk-container {/* jupyter's `normalize.less` sets `[hidden] { display: none; }` but bootstrap.min.css set `[hidden] { display: none !important; }` so we also need the `!important` here to be able to override the default hidden behavior on the sphinx rendered scikit-learn.org. See: https://github.com/scikit-learn/scikit-learn/issues/21755 */display: inline-block !important;position: relative;}#sk-container-id-2 div.sk-text-repr-fallback {display: none;}</style><div id=\"sk-container-id-2\" class=\"sk-top-container\"><div class=\"sk-text-repr-fallback\"><pre>CountVectorizer()</pre><b>In a Jupyter environment, please rerun this cell to show the HTML representation or trust the notebook. <br />On GitHub, the HTML representation is unable to render, please try loading this page with nbviewer.org.</b></div><div class=\"sk-container\" hidden><div class=\"sk-item\"><div class=\"sk-estimator sk-toggleable\"><input class=\"sk-toggleable__control sk-hidden--visually\" id=\"sk-estimator-id-2\" type=\"checkbox\" checked><label for=\"sk-estimator-id-2\" class=\"sk-toggleable__label sk-toggleable__label-arrow\">CountVectorizer</label><div class=\"sk-toggleable__content\"><pre>CountVectorizer()</pre></div></div></div></div></div>"
            ]
          },
          "metadata": {},
          "execution_count": 75
        }
      ]
    },
    {
      "cell_type": "code",
      "metadata": {
        "_uuid": "7bdd5c5b641355b80c84ae24142f5ded3e4054ba",
        "id": "AR20G-utTIXn",
        "outputId": "cf47ee4f-dbf3-4eda-8710-0fe9d914a688",
        "colab": {
          "base_uri": "https://localhost:8080/"
        }
      },
      "source": [
        "doc_array = count_vector.transform(documents).toarray()\n",
        "doc_array"
      ],
      "execution_count": 76,
      "outputs": [
        {
          "output_type": "execute_result",
          "data": {
            "text/plain": [
              "array([[1, 0, 0, 1, 0, 1, 0, 0, 0, 0, 0, 1],\n",
              "       [0, 0, 1, 0, 1, 0, 0, 1, 0, 0, 2, 0],\n",
              "       [0, 1, 0, 0, 0, 0, 1, 0, 1, 0, 0, 0],\n",
              "       [0, 1, 0, 2, 0, 0, 0, 0, 0, 1, 0, 1]])"
            ]
          },
          "metadata": {},
          "execution_count": 76
        }
      ]
    },
    {
      "cell_type": "code",
      "source": [
        "import pandas as pd"
      ],
      "metadata": {
        "id": "qcF0FgShXdU4"
      },
      "execution_count": 77,
      "outputs": []
    },
    {
      "cell_type": "code",
      "metadata": {
        "_uuid": "770d9a3f5b134e81664eea69eae48a38bb5a03aa",
        "id": "bYjdd5gVTIXr",
        "outputId": "4adcb11f-a60f-495d-9eda-34f1ffb46d86",
        "colab": {
          "base_uri": "https://localhost:8080/",
          "height": 175
        }
      },
      "source": [
        "frequency_matrix = pd.DataFrame(doc_array, columns=count_vector.get_feature_names_out())\n",
        "frequency_matrix"
      ],
      "execution_count": 78,
      "outputs": [
        {
          "output_type": "execute_result",
          "data": {
            "text/plain": [
              "   are  call  from  hello  home  how  me  money  now  tomorrow  win  you\n",
              "0    1     0     0      1     0    1   0      0    0         0    0    1\n",
              "1    0     0     1      0     1    0   0      1    0         0    2    0\n",
              "2    0     1     0      0     0    0   1      0    1         0    0    0\n",
              "3    0     1     0      2     0    0   0      0    0         1    0    1"
            ],
            "text/html": [
              "\n",
              "  <div id=\"df-dc2d07ff-feed-4cb1-b2dd-f5616bd6739d\">\n",
              "    <div class=\"colab-df-container\">\n",
              "      <div>\n",
              "<style scoped>\n",
              "    .dataframe tbody tr th:only-of-type {\n",
              "        vertical-align: middle;\n",
              "    }\n",
              "\n",
              "    .dataframe tbody tr th {\n",
              "        vertical-align: top;\n",
              "    }\n",
              "\n",
              "    .dataframe thead th {\n",
              "        text-align: right;\n",
              "    }\n",
              "</style>\n",
              "<table border=\"1\" class=\"dataframe\">\n",
              "  <thead>\n",
              "    <tr style=\"text-align: right;\">\n",
              "      <th></th>\n",
              "      <th>are</th>\n",
              "      <th>call</th>\n",
              "      <th>from</th>\n",
              "      <th>hello</th>\n",
              "      <th>home</th>\n",
              "      <th>how</th>\n",
              "      <th>me</th>\n",
              "      <th>money</th>\n",
              "      <th>now</th>\n",
              "      <th>tomorrow</th>\n",
              "      <th>win</th>\n",
              "      <th>you</th>\n",
              "    </tr>\n",
              "  </thead>\n",
              "  <tbody>\n",
              "    <tr>\n",
              "      <th>0</th>\n",
              "      <td>1</td>\n",
              "      <td>0</td>\n",
              "      <td>0</td>\n",
              "      <td>1</td>\n",
              "      <td>0</td>\n",
              "      <td>1</td>\n",
              "      <td>0</td>\n",
              "      <td>0</td>\n",
              "      <td>0</td>\n",
              "      <td>0</td>\n",
              "      <td>0</td>\n",
              "      <td>1</td>\n",
              "    </tr>\n",
              "    <tr>\n",
              "      <th>1</th>\n",
              "      <td>0</td>\n",
              "      <td>0</td>\n",
              "      <td>1</td>\n",
              "      <td>0</td>\n",
              "      <td>1</td>\n",
              "      <td>0</td>\n",
              "      <td>0</td>\n",
              "      <td>1</td>\n",
              "      <td>0</td>\n",
              "      <td>0</td>\n",
              "      <td>2</td>\n",
              "      <td>0</td>\n",
              "    </tr>\n",
              "    <tr>\n",
              "      <th>2</th>\n",
              "      <td>0</td>\n",
              "      <td>1</td>\n",
              "      <td>0</td>\n",
              "      <td>0</td>\n",
              "      <td>0</td>\n",
              "      <td>0</td>\n",
              "      <td>1</td>\n",
              "      <td>0</td>\n",
              "      <td>1</td>\n",
              "      <td>0</td>\n",
              "      <td>0</td>\n",
              "      <td>0</td>\n",
              "    </tr>\n",
              "    <tr>\n",
              "      <th>3</th>\n",
              "      <td>0</td>\n",
              "      <td>1</td>\n",
              "      <td>0</td>\n",
              "      <td>2</td>\n",
              "      <td>0</td>\n",
              "      <td>0</td>\n",
              "      <td>0</td>\n",
              "      <td>0</td>\n",
              "      <td>0</td>\n",
              "      <td>1</td>\n",
              "      <td>0</td>\n",
              "      <td>1</td>\n",
              "    </tr>\n",
              "  </tbody>\n",
              "</table>\n",
              "</div>\n",
              "      <button class=\"colab-df-convert\" onclick=\"convertToInteractive('df-dc2d07ff-feed-4cb1-b2dd-f5616bd6739d')\"\n",
              "              title=\"Convert this dataframe to an interactive table.\"\n",
              "              style=\"display:none;\">\n",
              "        \n",
              "  <svg xmlns=\"http://www.w3.org/2000/svg\" height=\"24px\"viewBox=\"0 0 24 24\"\n",
              "       width=\"24px\">\n",
              "    <path d=\"M0 0h24v24H0V0z\" fill=\"none\"/>\n",
              "    <path d=\"M18.56 5.44l.94 2.06.94-2.06 2.06-.94-2.06-.94-.94-2.06-.94 2.06-2.06.94zm-11 1L8.5 8.5l.94-2.06 2.06-.94-2.06-.94L8.5 2.5l-.94 2.06-2.06.94zm10 10l.94 2.06.94-2.06 2.06-.94-2.06-.94-.94-2.06-.94 2.06-2.06.94z\"/><path d=\"M17.41 7.96l-1.37-1.37c-.4-.4-.92-.59-1.43-.59-.52 0-1.04.2-1.43.59L10.3 9.45l-7.72 7.72c-.78.78-.78 2.05 0 2.83L4 21.41c.39.39.9.59 1.41.59.51 0 1.02-.2 1.41-.59l7.78-7.78 2.81-2.81c.8-.78.8-2.07 0-2.86zM5.41 20L4 18.59l7.72-7.72 1.47 1.35L5.41 20z\"/>\n",
              "  </svg>\n",
              "      </button>\n",
              "      \n",
              "  <style>\n",
              "    .colab-df-container {\n",
              "      display:flex;\n",
              "      flex-wrap:wrap;\n",
              "      gap: 12px;\n",
              "    }\n",
              "\n",
              "    .colab-df-convert {\n",
              "      background-color: #E8F0FE;\n",
              "      border: none;\n",
              "      border-radius: 50%;\n",
              "      cursor: pointer;\n",
              "      display: none;\n",
              "      fill: #1967D2;\n",
              "      height: 32px;\n",
              "      padding: 0 0 0 0;\n",
              "      width: 32px;\n",
              "    }\n",
              "\n",
              "    .colab-df-convert:hover {\n",
              "      background-color: #E2EBFA;\n",
              "      box-shadow: 0px 1px 2px rgba(60, 64, 67, 0.3), 0px 1px 3px 1px rgba(60, 64, 67, 0.15);\n",
              "      fill: #174EA6;\n",
              "    }\n",
              "\n",
              "    [theme=dark] .colab-df-convert {\n",
              "      background-color: #3B4455;\n",
              "      fill: #D2E3FC;\n",
              "    }\n",
              "\n",
              "    [theme=dark] .colab-df-convert:hover {\n",
              "      background-color: #434B5C;\n",
              "      box-shadow: 0px 1px 3px 1px rgba(0, 0, 0, 0.15);\n",
              "      filter: drop-shadow(0px 1px 2px rgba(0, 0, 0, 0.3));\n",
              "      fill: #FFFFFF;\n",
              "    }\n",
              "  </style>\n",
              "\n",
              "      <script>\n",
              "        const buttonEl =\n",
              "          document.querySelector('#df-dc2d07ff-feed-4cb1-b2dd-f5616bd6739d button.colab-df-convert');\n",
              "        buttonEl.style.display =\n",
              "          google.colab.kernel.accessAllowed ? 'block' : 'none';\n",
              "\n",
              "        async function convertToInteractive(key) {\n",
              "          const element = document.querySelector('#df-dc2d07ff-feed-4cb1-b2dd-f5616bd6739d');\n",
              "          const dataTable =\n",
              "            await google.colab.kernel.invokeFunction('convertToInteractive',\n",
              "                                                     [key], {});\n",
              "          if (!dataTable) return;\n",
              "\n",
              "          const docLinkHtml = 'Like what you see? Visit the ' +\n",
              "            '<a target=\"_blank\" href=https://colab.research.google.com/notebooks/data_table.ipynb>data table notebook</a>'\n",
              "            + ' to learn more about interactive tables.';\n",
              "          element.innerHTML = '';\n",
              "          dataTable['output_type'] = 'display_data';\n",
              "          await google.colab.output.renderOutput(dataTable, element);\n",
              "          const docLink = document.createElement('div');\n",
              "          docLink.innerHTML = docLinkHtml;\n",
              "          element.appendChild(docLink);\n",
              "        }\n",
              "      </script>\n",
              "    </div>\n",
              "  </div>\n",
              "  "
            ]
          },
          "metadata": {},
          "execution_count": 78
        }
      ]
    },
    {
      "cell_type": "markdown",
      "metadata": {
        "id": "fdKTPHvHTIXv"
      },
      "source": [
        "- Lets take the second row of the document, i.e., '__Win money, win from home.__' .\n",
        "\n",
        "- Now by observing the second row of the frequency matrix, you can learn how values of individual element is set in the matrix.\n",
        "\n",
        "\n",
        "|__Word__ | __Frequency__  |\n",
        "| -------|:------      :|\n",
        "|from    | 1            |\n",
        "|home    | 1            |\n",
        "|money   | 1            |\n",
        "|win     | 2            |"
      ]
    },
    {
      "cell_type": "markdown",
      "metadata": {
        "id": "HTPM3ztxzGm1"
      },
      "source": [
        "#### TF-IDF (Term Frequency - Inverse Document Frequency)"
      ]
    },
    {
      "cell_type": "markdown",
      "metadata": {
        "id": "ht5gJGOMzGm3"
      },
      "source": [
        "- <font color = red>TF</font> - It signifies the **occurrence** of the word in a **document**.\n",
        "\n",
        "\n",
        "<img src = \"https://raw.githubusercontent.com/insaid2018/Term-4/master/images/tf.PNG\">\n",
        "\n",
        "- <font color = red>IDF</font> - It signifies the **rarity** of the **word** as the word **occuring** in the document.\n",
        "\n",
        "<img src = \"https://raw.githubusercontent.com/insaid2018/Term-4/master/images/idf.PNG\">\n",
        "\n",
        "- <font color = red>TF-IDF</font> - It is a **measure** used to **evaluate** how important a word is to a **document** in a document corpus.\n",
        "\n",
        "- The importance of word increases **proportionally** to the number of times a word appears in the **document** but is offset by the **frequency** of the word in the **corpus**.\n",
        "\n",
        "<br>  "
      ]
    },
    {
      "cell_type": "markdown",
      "metadata": {
        "id": "KIhGDwCHbDHe"
      },
      "source": [
        "TF-IDF is used mainly because of two reasons:\n",
        "\n",
        "- Suppose we search for \"**the rise of AI**\" on **Google**. It is certain that \"the\" will occur **more** frequently than \"**AI**\", but the relative **importance** of **AI** is **higher**.\n",
        "\n",
        "- In such case, **TF-IDF weighting** negates the effect of **high frequency** words in determining the **importance** of an item."
      ]
    },
    {
      "cell_type": "markdown",
      "metadata": {
        "id": "Iqkn4tvObJDE"
      },
      "source": [
        "**TF-IDF in scikit-learn**"
      ]
    },
    {
      "cell_type": "markdown",
      "metadata": {
        "id": "AmRDII7JcyAs"
      },
      "source": [
        "- We can run the **`TfidfVectorizer`** in a similar manner as the **CountVectorizer**.\n",
        "\n",
        "- We can first fit the **vectorizer** with the text data and then **transform** it.\n",
        "\n",
        "- Or we can use use **`fit_transform`**, to perform fitting and transforming in a **single step**."
      ]
    },
    {
      "cell_type": "code",
      "metadata": {
        "id": "40zTBJBNbmBq"
      },
      "source": [
        "from sklearn.feature_extraction.text import TfidfVectorizer"
      ],
      "execution_count": 79,
      "outputs": []
    },
    {
      "cell_type": "code",
      "metadata": {
        "id": "414p-3oibU82"
      },
      "source": [
        "tfidf_vectorizer = TfidfVectorizer()"
      ],
      "execution_count": 80,
      "outputs": []
    },
    {
      "cell_type": "code",
      "metadata": {
        "_uuid": "7bdd5c5b641355b80c84ae24142f5ded3e4054ba",
        "id": "2TEI2O7PcE1Q",
        "colab": {
          "base_uri": "https://localhost:8080/"
        },
        "outputId": "0ed82310-4a9f-4437-d655-d49b72f19a1e"
      },
      "source": [
        "tfidf_array = tfidf_vectorizer.fit_transform(documents).toarray()\n",
        "tfidf_array"
      ],
      "execution_count": 81,
      "outputs": [
        {
          "output_type": "execute_result",
          "data": {
            "text/plain": [
              "array([[0.55528266, 0.        , 0.        , 0.43779123, 0.        ,\n",
              "        0.55528266, 0.        , 0.        , 0.        , 0.        ,\n",
              "        0.        , 0.43779123],\n",
              "       [0.        , 0.        , 0.37796447, 0.        , 0.37796447,\n",
              "        0.        , 0.        , 0.37796447, 0.        , 0.        ,\n",
              "        0.75592895, 0.        ],\n",
              "       [0.        , 0.48693426, 0.        , 0.        , 0.        ,\n",
              "        0.        , 0.61761437, 0.        , 0.61761437, 0.        ,\n",
              "        0.        , 0.        ],\n",
              "       [0.        , 0.362529  , 0.        , 0.725058  , 0.        ,\n",
              "        0.        , 0.        , 0.        , 0.        , 0.45982207,\n",
              "        0.        , 0.362529  ]])"
            ]
          },
          "metadata": {},
          "execution_count": 81
        }
      ]
    },
    {
      "cell_type": "code",
      "metadata": {
        "id": "KsXB6-ulcuzW",
        "colab": {
          "base_uri": "https://localhost:8080/"
        },
        "outputId": "5211f184-9fd6-420e-8070-55a9a68d6585"
      },
      "source": [
        "print(tfidf_vectorizer.get_feature_names_out())"
      ],
      "execution_count": 82,
      "outputs": [
        {
          "output_type": "stream",
          "name": "stdout",
          "text": [
            "['are' 'call' 'from' 'hello' 'home' 'how' 'me' 'money' 'now' 'tomorrow'\n",
            " 'win' 'you']\n"
          ]
        }
      ]
    },
    {
      "cell_type": "code",
      "metadata": {
        "_uuid": "770d9a3f5b134e81664eea69eae48a38bb5a03aa",
        "id": "5DNHYlxEcE1U",
        "colab": {
          "base_uri": "https://localhost:8080/",
          "height": 175
        },
        "outputId": "883fffc6-9950-4376-cc6f-26904d3eb980"
      },
      "source": [
        "tfidf_matrix = pd.DataFrame(tfidf_array, columns=tfidf_vectorizer.get_feature_names_out())\n",
        "tfidf_matrix"
      ],
      "execution_count": 83,
      "outputs": [
        {
          "output_type": "execute_result",
          "data": {
            "text/plain": [
              "        are      call      from     hello      home       how        me  \\\n",
              "0  0.555283  0.000000  0.000000  0.437791  0.000000  0.555283  0.000000   \n",
              "1  0.000000  0.000000  0.377964  0.000000  0.377964  0.000000  0.000000   \n",
              "2  0.000000  0.486934  0.000000  0.000000  0.000000  0.000000  0.617614   \n",
              "3  0.000000  0.362529  0.000000  0.725058  0.000000  0.000000  0.000000   \n",
              "\n",
              "      money       now  tomorrow       win       you  \n",
              "0  0.000000  0.000000  0.000000  0.000000  0.437791  \n",
              "1  0.377964  0.000000  0.000000  0.755929  0.000000  \n",
              "2  0.000000  0.617614  0.000000  0.000000  0.000000  \n",
              "3  0.000000  0.000000  0.459822  0.000000  0.362529  "
            ],
            "text/html": [
              "\n",
              "  <div id=\"df-9a09adc8-c6d1-4023-8678-81ffeebb2f3d\">\n",
              "    <div class=\"colab-df-container\">\n",
              "      <div>\n",
              "<style scoped>\n",
              "    .dataframe tbody tr th:only-of-type {\n",
              "        vertical-align: middle;\n",
              "    }\n",
              "\n",
              "    .dataframe tbody tr th {\n",
              "        vertical-align: top;\n",
              "    }\n",
              "\n",
              "    .dataframe thead th {\n",
              "        text-align: right;\n",
              "    }\n",
              "</style>\n",
              "<table border=\"1\" class=\"dataframe\">\n",
              "  <thead>\n",
              "    <tr style=\"text-align: right;\">\n",
              "      <th></th>\n",
              "      <th>are</th>\n",
              "      <th>call</th>\n",
              "      <th>from</th>\n",
              "      <th>hello</th>\n",
              "      <th>home</th>\n",
              "      <th>how</th>\n",
              "      <th>me</th>\n",
              "      <th>money</th>\n",
              "      <th>now</th>\n",
              "      <th>tomorrow</th>\n",
              "      <th>win</th>\n",
              "      <th>you</th>\n",
              "    </tr>\n",
              "  </thead>\n",
              "  <tbody>\n",
              "    <tr>\n",
              "      <th>0</th>\n",
              "      <td>0.555283</td>\n",
              "      <td>0.000000</td>\n",
              "      <td>0.000000</td>\n",
              "      <td>0.437791</td>\n",
              "      <td>0.000000</td>\n",
              "      <td>0.555283</td>\n",
              "      <td>0.000000</td>\n",
              "      <td>0.000000</td>\n",
              "      <td>0.000000</td>\n",
              "      <td>0.000000</td>\n",
              "      <td>0.000000</td>\n",
              "      <td>0.437791</td>\n",
              "    </tr>\n",
              "    <tr>\n",
              "      <th>1</th>\n",
              "      <td>0.000000</td>\n",
              "      <td>0.000000</td>\n",
              "      <td>0.377964</td>\n",
              "      <td>0.000000</td>\n",
              "      <td>0.377964</td>\n",
              "      <td>0.000000</td>\n",
              "      <td>0.000000</td>\n",
              "      <td>0.377964</td>\n",
              "      <td>0.000000</td>\n",
              "      <td>0.000000</td>\n",
              "      <td>0.755929</td>\n",
              "      <td>0.000000</td>\n",
              "    </tr>\n",
              "    <tr>\n",
              "      <th>2</th>\n",
              "      <td>0.000000</td>\n",
              "      <td>0.486934</td>\n",
              "      <td>0.000000</td>\n",
              "      <td>0.000000</td>\n",
              "      <td>0.000000</td>\n",
              "      <td>0.000000</td>\n",
              "      <td>0.617614</td>\n",
              "      <td>0.000000</td>\n",
              "      <td>0.617614</td>\n",
              "      <td>0.000000</td>\n",
              "      <td>0.000000</td>\n",
              "      <td>0.000000</td>\n",
              "    </tr>\n",
              "    <tr>\n",
              "      <th>3</th>\n",
              "      <td>0.000000</td>\n",
              "      <td>0.362529</td>\n",
              "      <td>0.000000</td>\n",
              "      <td>0.725058</td>\n",
              "      <td>0.000000</td>\n",
              "      <td>0.000000</td>\n",
              "      <td>0.000000</td>\n",
              "      <td>0.000000</td>\n",
              "      <td>0.000000</td>\n",
              "      <td>0.459822</td>\n",
              "      <td>0.000000</td>\n",
              "      <td>0.362529</td>\n",
              "    </tr>\n",
              "  </tbody>\n",
              "</table>\n",
              "</div>\n",
              "      <button class=\"colab-df-convert\" onclick=\"convertToInteractive('df-9a09adc8-c6d1-4023-8678-81ffeebb2f3d')\"\n",
              "              title=\"Convert this dataframe to an interactive table.\"\n",
              "              style=\"display:none;\">\n",
              "        \n",
              "  <svg xmlns=\"http://www.w3.org/2000/svg\" height=\"24px\"viewBox=\"0 0 24 24\"\n",
              "       width=\"24px\">\n",
              "    <path d=\"M0 0h24v24H0V0z\" fill=\"none\"/>\n",
              "    <path d=\"M18.56 5.44l.94 2.06.94-2.06 2.06-.94-2.06-.94-.94-2.06-.94 2.06-2.06.94zm-11 1L8.5 8.5l.94-2.06 2.06-.94-2.06-.94L8.5 2.5l-.94 2.06-2.06.94zm10 10l.94 2.06.94-2.06 2.06-.94-2.06-.94-.94-2.06-.94 2.06-2.06.94z\"/><path d=\"M17.41 7.96l-1.37-1.37c-.4-.4-.92-.59-1.43-.59-.52 0-1.04.2-1.43.59L10.3 9.45l-7.72 7.72c-.78.78-.78 2.05 0 2.83L4 21.41c.39.39.9.59 1.41.59.51 0 1.02-.2 1.41-.59l7.78-7.78 2.81-2.81c.8-.78.8-2.07 0-2.86zM5.41 20L4 18.59l7.72-7.72 1.47 1.35L5.41 20z\"/>\n",
              "  </svg>\n",
              "      </button>\n",
              "      \n",
              "  <style>\n",
              "    .colab-df-container {\n",
              "      display:flex;\n",
              "      flex-wrap:wrap;\n",
              "      gap: 12px;\n",
              "    }\n",
              "\n",
              "    .colab-df-convert {\n",
              "      background-color: #E8F0FE;\n",
              "      border: none;\n",
              "      border-radius: 50%;\n",
              "      cursor: pointer;\n",
              "      display: none;\n",
              "      fill: #1967D2;\n",
              "      height: 32px;\n",
              "      padding: 0 0 0 0;\n",
              "      width: 32px;\n",
              "    }\n",
              "\n",
              "    .colab-df-convert:hover {\n",
              "      background-color: #E2EBFA;\n",
              "      box-shadow: 0px 1px 2px rgba(60, 64, 67, 0.3), 0px 1px 3px 1px rgba(60, 64, 67, 0.15);\n",
              "      fill: #174EA6;\n",
              "    }\n",
              "\n",
              "    [theme=dark] .colab-df-convert {\n",
              "      background-color: #3B4455;\n",
              "      fill: #D2E3FC;\n",
              "    }\n",
              "\n",
              "    [theme=dark] .colab-df-convert:hover {\n",
              "      background-color: #434B5C;\n",
              "      box-shadow: 0px 1px 3px 1px rgba(0, 0, 0, 0.15);\n",
              "      filter: drop-shadow(0px 1px 2px rgba(0, 0, 0, 0.3));\n",
              "      fill: #FFFFFF;\n",
              "    }\n",
              "  </style>\n",
              "\n",
              "      <script>\n",
              "        const buttonEl =\n",
              "          document.querySelector('#df-9a09adc8-c6d1-4023-8678-81ffeebb2f3d button.colab-df-convert');\n",
              "        buttonEl.style.display =\n",
              "          google.colab.kernel.accessAllowed ? 'block' : 'none';\n",
              "\n",
              "        async function convertToInteractive(key) {\n",
              "          const element = document.querySelector('#df-9a09adc8-c6d1-4023-8678-81ffeebb2f3d');\n",
              "          const dataTable =\n",
              "            await google.colab.kernel.invokeFunction('convertToInteractive',\n",
              "                                                     [key], {});\n",
              "          if (!dataTable) return;\n",
              "\n",
              "          const docLinkHtml = 'Like what you see? Visit the ' +\n",
              "            '<a target=\"_blank\" href=https://colab.research.google.com/notebooks/data_table.ipynb>data table notebook</a>'\n",
              "            + ' to learn more about interactive tables.';\n",
              "          element.innerHTML = '';\n",
              "          dataTable['output_type'] = 'display_data';\n",
              "          await google.colab.output.renderOutput(dataTable, element);\n",
              "          const docLink = document.createElement('div');\n",
              "          docLink.innerHTML = docLinkHtml;\n",
              "          element.appendChild(docLink);\n",
              "        }\n",
              "      </script>\n",
              "    </div>\n",
              "  </div>\n",
              "  "
            ]
          },
          "metadata": {},
          "execution_count": 83
        }
      ]
    },
    {
      "cell_type": "markdown",
      "metadata": {
        "id": "e-PzUpNsdcQS"
      },
      "source": [
        "- The output is similar to the **CountVectorizer**.\n",
        "\n",
        "- But, instead of the **counts** of each word in the **document**, we are getting **TF-IDF** values."
      ]
    },
    {
      "cell_type": "markdown",
      "metadata": {
        "id": "aFZn_QCF1v_K"
      },
      "source": [
        "---\n",
        "<a id=section4></a>\n",
        "# **4. Applications**\n",
        "---"
      ]
    },
    {
      "cell_type": "markdown",
      "metadata": {
        "id": "EBrnlyC5XRVN"
      },
      "source": [
        "- We can use NLP on a text review to predict if the **review is a good one** or a **bad one.**\n",
        "\n",
        "<center><img src = \"https://raw.githubusercontent.com/insaid2018/Term-1/master/Images/sentiment%20analysis.gif\"width=\"440\" height=\"300\"></center>\n",
        "\n",
        "- It can be used  on an **article to predict** some categories of the articles you are trying to segment.\n",
        "\n",
        "<center><img src = \"https://raw.githubusercontent.com/insaid2018/Term-1/master/Images/art.png\"width=\"460\" height=\"200\"></center>\n",
        "\n",
        "\n",
        "- It can be used for certain criteria on which it takes **decision** and **blocks spam**(unwanted mails).\n",
        "\n",
        "<br>  \n",
        "<center><img src =\"https://raw.githubusercontent.com/insaid2018/Term-1/master/Images/spam%20filter.gif\" width=\"340\" height=\"240\"></center><br>\n",
        "\n",
        "<br>  \n",
        "-  It can be used as a **chat Bot** that uses AI as **integral part** of business world.\n",
        "\n",
        "<br>  \n",
        "<center><img src = \"https://raw.githubusercontent.com/insaid2018/Term-1/master/Images/4.gif\" width=\"340\" height=\"200\"></center>"
      ]
    },
    {
      "cell_type": "code",
      "source": [],
      "metadata": {
        "id": "Ifa1lN5OYVBf"
      },
      "execution_count": 83,
      "outputs": []
    }
  ]
}